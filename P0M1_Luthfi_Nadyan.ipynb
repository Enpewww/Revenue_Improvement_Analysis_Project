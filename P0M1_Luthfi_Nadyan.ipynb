{
 "cells": [
  {
   "cell_type": "markdown",
   "id": "be3cf7ed",
   "metadata": {},
   "source": [
    "# Introduction\n",
    "\n",
    "## **Luthfi Nadyan Putra**\n",
    "___\n",
    "\n",
    "URL Link for Tableau Dashboard: [Link Dashboard Tableau](https://public.tableau.com/app/profile/luthfi.nadyan.putra/viz/Dashboard_17478305213680/VisualizationDashboard?publish=yes) \n",
    "___"
   ]
  },
  {
   "cell_type": "markdown",
   "id": "08844918",
   "metadata": {},
   "source": [
    "# Milestone 1: Revenue Improvement with Pricing Strategies of Applying Discounts Based Strategies\n",
    "\n",
    "## Background: \n",
    "As one of Data Analyst from Pricing Strategies Department of top E-Commerce company the company's shareholders wants to know about the revenue generated from popular product and discount categories. Moreover, company wants to improve discount efficiency without losing any revenue in those periode. Therefore, your main objectives is differed from this points below:\n",
    "\n",
    "1. To increase product's revenue by 10 percent for the next periode.\n",
    "\n",
    "2. While increase the company's revenue you have to addressed any discount that company has been applied based on payment methods, gain insight on how your going to improve it efficently.\n",
    "\n",
    "## SMART\n",
    "Specific: Focusing on revenue by 10% optimizing product pricing, discount strategies, and targeting popular product categories. While increasing revenue, assess and refine discount strategies based on method of the payment used to maintain or even improve revenue by offering competitive deals.\n",
    "\n",
    "Measurable: Increase in revenue of popular products category by 10%, deciding what promotional strategies to use based on discounts status and the method of payment consumer uses.\n",
    "\n",
    "Achieveable: Identifying the baseline of current sales performance of top products category with targeted promotion deals (discounted or nondiscounted), based on payment method segmentations.\n",
    "\n",
    "Relevant: Directly supports business growth, improve product categories sales, and ensures promotional spending leads to sustainable revenue generate.\n",
    "\n",
    "Time-bound: Achieve this increase within the 3 next months (end of quartile), complete discounts strategy analysis, implements discount improvements for each products category within the last 1 month.\n",
    "\n",
    "Within the time bound of 4 months (quartile) we need to do analysis within first month to identify the top product categories by revenue performance. The next 2 months, we need to addressed all the factors affecting revenue like discounts price or non-discounts price, and method of payment that consumers uses that correlated to gain insight to create the pricing strategies for implementation. The final month, we need to implementing the pricing strategies and review the performance in the first next quarter.\n",
    "\n",
    "Problem Statements:\n",
    "\n",
    "1. Which product categories contribute the most to the top revenue of our company?\n",
    "2. How the revenue of discounted price vs non-discounted price to revenue by product categories?\n",
    "3. How the payment method will came along to the revenue of the product category?\n",
    "4. What is consumer preferences of using the method of payment in our company?\n",
    "5. Is there significant difference for price discounted vs non-discounted?\n",
    "6. Is there any significant effect of products category and payment method to the revenue?"
   ]
  },
  {
   "cell_type": "markdown",
   "id": "f78bea31",
   "metadata": {},
   "source": [
    "## A. Data Exploration"
   ]
  },
  {
   "cell_type": "markdown",
   "id": "6e701ee7",
   "metadata": {},
   "source": [
    "___\n",
    "First we need to import our dataset to the pandas and do some data exploration based on the information for gaining any insight from it."
   ]
  },
  {
   "cell_type": "markdown",
   "id": "7b279523",
   "metadata": {},
   "source": [
    "### 1. Import Package"
   ]
  },
  {
   "cell_type": "code",
   "execution_count": 1,
   "id": "11b32e8a",
   "metadata": {},
   "outputs": [],
   "source": [
    "# Import the Packages use for analysis\n",
    "import pandas as pd\n",
    "import numpy as np\n",
    "import matplotlib.pyplot as plt\n",
    "import seaborn as sns\n",
    "from scipy import stats\n",
    "from scipy.stats import t\n",
    "import matplotlib.lines as lines\n",
    "import statsmodels.stats.api as sms # For two way ANOVA\n",
    "from statsmodels.formula.api import ols # For two way ANOVA"
   ]
  },
  {
   "cell_type": "markdown",
   "id": "1a4cad7f",
   "metadata": {},
   "source": [
    "### 2. Data Exploration"
   ]
  },
  {
   "cell_type": "code",
   "execution_count": 2,
   "id": "9b635539",
   "metadata": {},
   "outputs": [
    {
     "data": {
      "text/html": [
       "<div>\n",
       "<style scoped>\n",
       "    .dataframe tbody tr th:only-of-type {\n",
       "        vertical-align: middle;\n",
       "    }\n",
       "\n",
       "    .dataframe tbody tr th {\n",
       "        vertical-align: top;\n",
       "    }\n",
       "\n",
       "    .dataframe thead th {\n",
       "        text-align: right;\n",
       "    }\n",
       "</style>\n",
       "<table border=\"1\" class=\"dataframe\">\n",
       "  <thead>\n",
       "    <tr style=\"text-align: right;\">\n",
       "      <th></th>\n",
       "      <th>User_ID</th>\n",
       "      <th>Product_ID</th>\n",
       "      <th>Category</th>\n",
       "      <th>Price (Rs.)</th>\n",
       "      <th>Discount (%)</th>\n",
       "      <th>Final_Price(Rs.)</th>\n",
       "      <th>Payment_Method</th>\n",
       "      <th>Purchase_Date</th>\n",
       "    </tr>\n",
       "  </thead>\n",
       "  <tbody>\n",
       "    <tr>\n",
       "      <th>0</th>\n",
       "      <td>337c166f</td>\n",
       "      <td>f414122f-e</td>\n",
       "      <td>Sports</td>\n",
       "      <td>36.53</td>\n",
       "      <td>15</td>\n",
       "      <td>31.05</td>\n",
       "      <td>Net Banking</td>\n",
       "      <td>12-11-2024</td>\n",
       "    </tr>\n",
       "    <tr>\n",
       "      <th>1</th>\n",
       "      <td>d38a19bf</td>\n",
       "      <td>fde50f9c-5</td>\n",
       "      <td>Clothing</td>\n",
       "      <td>232.79</td>\n",
       "      <td>20</td>\n",
       "      <td>186.23</td>\n",
       "      <td>Net Banking</td>\n",
       "      <td>09-02-2024</td>\n",
       "    </tr>\n",
       "    <tr>\n",
       "      <th>2</th>\n",
       "      <td>d7f5f0b0</td>\n",
       "      <td>0d96fc90-3</td>\n",
       "      <td>Sports</td>\n",
       "      <td>317.02</td>\n",
       "      <td>25</td>\n",
       "      <td>237.76</td>\n",
       "      <td>Credit Card</td>\n",
       "      <td>01-09-2024</td>\n",
       "    </tr>\n",
       "    <tr>\n",
       "      <th>3</th>\n",
       "      <td>395d4994</td>\n",
       "      <td>964fc44b-d</td>\n",
       "      <td>Toys</td>\n",
       "      <td>173.19</td>\n",
       "      <td>25</td>\n",
       "      <td>129.89</td>\n",
       "      <td>UPI</td>\n",
       "      <td>01-04-2024</td>\n",
       "    </tr>\n",
       "    <tr>\n",
       "      <th>4</th>\n",
       "      <td>a83c145c</td>\n",
       "      <td>d70e2fc6-e</td>\n",
       "      <td>Beauty</td>\n",
       "      <td>244.80</td>\n",
       "      <td>20</td>\n",
       "      <td>195.84</td>\n",
       "      <td>Net Banking</td>\n",
       "      <td>27-09-2024</td>\n",
       "    </tr>\n",
       "    <tr>\n",
       "      <th>5</th>\n",
       "      <td>3fdcdae8</td>\n",
       "      <td>0816ee12-5</td>\n",
       "      <td>Books</td>\n",
       "      <td>241.86</td>\n",
       "      <td>50</td>\n",
       "      <td>120.93</td>\n",
       "      <td>UPI</td>\n",
       "      <td>08-08-2024</td>\n",
       "    </tr>\n",
       "    <tr>\n",
       "      <th>6</th>\n",
       "      <td>12772337</td>\n",
       "      <td>d41e0b55-c</td>\n",
       "      <td>Toys</td>\n",
       "      <td>76.91</td>\n",
       "      <td>5</td>\n",
       "      <td>73.06</td>\n",
       "      <td>Credit Card</td>\n",
       "      <td>28-03-2024</td>\n",
       "    </tr>\n",
       "    <tr>\n",
       "      <th>7</th>\n",
       "      <td>9f0194af</td>\n",
       "      <td>83b7dc04-5</td>\n",
       "      <td>Sports</td>\n",
       "      <td>213.23</td>\n",
       "      <td>20</td>\n",
       "      <td>170.58</td>\n",
       "      <td>Net Banking</td>\n",
       "      <td>29-05-2024</td>\n",
       "    </tr>\n",
       "    <tr>\n",
       "      <th>8</th>\n",
       "      <td>7a8559d8</td>\n",
       "      <td>87c9c896-1</td>\n",
       "      <td>Sports</td>\n",
       "      <td>379.81</td>\n",
       "      <td>5</td>\n",
       "      <td>360.82</td>\n",
       "      <td>Credit Card</td>\n",
       "      <td>26-02-2024</td>\n",
       "    </tr>\n",
       "    <tr>\n",
       "      <th>9</th>\n",
       "      <td>8911f0d1</td>\n",
       "      <td>31308875-b</td>\n",
       "      <td>Home &amp; Kitchen</td>\n",
       "      <td>415.36</td>\n",
       "      <td>50</td>\n",
       "      <td>207.68</td>\n",
       "      <td>Net Banking</td>\n",
       "      <td>11-01-2024</td>\n",
       "    </tr>\n",
       "  </tbody>\n",
       "</table>\n",
       "</div>"
      ],
      "text/plain": [
       "    User_ID  Product_ID        Category  Price (Rs.)  Discount (%)  \\\n",
       "0  337c166f  f414122f-e          Sports        36.53            15   \n",
       "1  d38a19bf  fde50f9c-5        Clothing       232.79            20   \n",
       "2  d7f5f0b0  0d96fc90-3          Sports       317.02            25   \n",
       "3  395d4994  964fc44b-d            Toys       173.19            25   \n",
       "4  a83c145c  d70e2fc6-e          Beauty       244.80            20   \n",
       "5  3fdcdae8  0816ee12-5           Books       241.86            50   \n",
       "6  12772337  d41e0b55-c            Toys        76.91             5   \n",
       "7  9f0194af  83b7dc04-5          Sports       213.23            20   \n",
       "8  7a8559d8  87c9c896-1          Sports       379.81             5   \n",
       "9  8911f0d1  31308875-b  Home & Kitchen       415.36            50   \n",
       "\n",
       "   Final_Price(Rs.) Payment_Method Purchase_Date  \n",
       "0             31.05    Net Banking    12-11-2024  \n",
       "1            186.23    Net Banking    09-02-2024  \n",
       "2            237.76    Credit Card    01-09-2024  \n",
       "3            129.89            UPI    01-04-2024  \n",
       "4            195.84    Net Banking    27-09-2024  \n",
       "5            120.93            UPI    08-08-2024  \n",
       "6             73.06    Credit Card    28-03-2024  \n",
       "7            170.58    Net Banking    29-05-2024  \n",
       "8            360.82    Credit Card    26-02-2024  \n",
       "9            207.68    Net Banking    11-01-2024  "
      ]
     },
     "execution_count": 2,
     "metadata": {},
     "output_type": "execute_result"
    }
   ],
   "source": [
    "# Read the dataset CSV\n",
    "df = pd.read_csv('ecommerce_dataset_updated.csv')\n",
    "df.head(10)"
   ]
  },
  {
   "cell_type": "code",
   "execution_count": 3,
   "id": "e2bb356c",
   "metadata": {},
   "outputs": [
    {
     "data": {
      "text/plain": [
       "Index(['User_ID', 'Product_ID', 'Category', 'Price (Rs.)', 'Discount (%)',\n",
       "       'Final_Price(Rs.)', 'Payment_Method', 'Purchase_Date'],\n",
       "      dtype='object')"
      ]
     },
     "execution_count": 3,
     "metadata": {},
     "output_type": "execute_result"
    }
   ],
   "source": [
    "# Showing all columns in the dataset\n",
    "df.columns"
   ]
  },
  {
   "cell_type": "markdown",
   "id": "97f52226",
   "metadata": {},
   "source": [
    "From the data we gain,\n",
    "- User Id column that describe User personification in the form of Ids.\n",
    "- Product id is consists all unique product id in the form of Ids.\n",
    "- Category is a group of product categories for any particular product ids.\n",
    "- Price is showing the prices of the unique product ids.\n",
    "- Discount is showing which product ids have a discounts or not-discounted\n",
    "- Final Price is given values of prices after discounted (Final Price = Price - (Price*Discounts))\n",
    "- Payment method is which payment method used in the transaction by the user.\n",
    "- Purchase date is the date of these product ids been purchased by user ids."
   ]
  },
  {
   "cell_type": "code",
   "execution_count": 4,
   "id": "98049a6c",
   "metadata": {},
   "outputs": [
    {
     "data": {
      "text/plain": [
       "(3660, 8)"
      ]
     },
     "execution_count": 4,
     "metadata": {},
     "output_type": "execute_result"
    }
   ],
   "source": [
    "# Call the information of rows and columns consists in the dataframe\n",
    "df.shape"
   ]
  },
  {
   "cell_type": "markdown",
   "id": "6791767a",
   "metadata": {},
   "source": [
    "From the dataset inferred that the DataFrame have 3660 rows and 8 columns. We use this dataframe for the analysis based on these rows and columns given by the datasets."
   ]
  },
  {
   "cell_type": "code",
   "execution_count": 5,
   "id": "149f3abe",
   "metadata": {},
   "outputs": [
    {
     "name": "stdout",
     "output_type": "stream",
     "text": [
      "<class 'pandas.core.frame.DataFrame'>\n",
      "RangeIndex: 3660 entries, 0 to 3659\n",
      "Data columns (total 8 columns):\n",
      " #   Column            Non-Null Count  Dtype  \n",
      "---  ------            --------------  -----  \n",
      " 0   User_ID           3660 non-null   object \n",
      " 1   Product_ID        3660 non-null   object \n",
      " 2   Category          3660 non-null   object \n",
      " 3   Price (Rs.)       3660 non-null   float64\n",
      " 4   Discount (%)      3660 non-null   int64  \n",
      " 5   Final_Price(Rs.)  3660 non-null   float64\n",
      " 6   Payment_Method    3660 non-null   object \n",
      " 7   Purchase_Date     3660 non-null   object \n",
      "dtypes: float64(2), int64(1), object(5)\n",
      "memory usage: 228.9+ KB\n"
     ]
    }
   ],
   "source": [
    "# Gain information for the data\n",
    "df.info()"
   ]
  },
  {
   "cell_type": "markdown",
   "id": "50b8ea37",
   "metadata": {},
   "source": [
    "For the information given, in 8 columns consist of 5 object, 2 float, and  1 integer type of datas. Referred from the information there is no null values given in the DataFrame."
   ]
  },
  {
   "cell_type": "markdown",
   "id": "d8c2d2ea",
   "metadata": {},
   "source": [
    "## B. Data Preprocessing\n",
    "___ "
   ]
  },
  {
   "cell_type": "markdown",
   "id": "9f4043d1",
   "metadata": {},
   "source": [
    "### 1. Duplicate Value and Null Value Checks"
   ]
  },
  {
   "cell_type": "code",
   "execution_count": 6,
   "id": "6c2d514e",
   "metadata": {},
   "outputs": [
    {
     "data": {
      "text/plain": [
       "False"
      ]
     },
     "execution_count": 6,
     "metadata": {},
     "output_type": "execute_result"
    }
   ],
   "source": [
    "# Show if any duplicates value in data frame\n",
    "df.duplicated().any()"
   ]
  },
  {
   "cell_type": "code",
   "execution_count": 7,
   "id": "23f9659d",
   "metadata": {},
   "outputs": [
    {
     "data": {
      "text/plain": [
       "0"
      ]
     },
     "execution_count": 7,
     "metadata": {},
     "output_type": "execute_result"
    }
   ],
   "source": [
    "# Show any duplicates in the form of value\n",
    "df.duplicated().sum()"
   ]
  },
  {
   "cell_type": "markdown",
   "id": "6680b442",
   "metadata": {},
   "source": [
    "Inferred from above information there is no or any duplicate values in the dataframe. Therefore, we okay to go."
   ]
  },
  {
   "cell_type": "code",
   "execution_count": 8,
   "id": "4d88f747",
   "metadata": {},
   "outputs": [
    {
     "data": {
      "text/plain": [
       "User_ID             0\n",
       "Product_ID          0\n",
       "Category            0\n",
       "Price (Rs.)         0\n",
       "Discount (%)        0\n",
       "Final_Price(Rs.)    0\n",
       "Payment_Method      0\n",
       "Purchase_Date       0\n",
       "dtype: int64"
      ]
     },
     "execution_count": 8,
     "metadata": {},
     "output_type": "execute_result"
    }
   ],
   "source": [
    "# Show any null values in dataset\n",
    "df.isna().sum()\n"
   ]
  },
  {
   "cell_type": "markdown",
   "id": "9d1ca53d",
   "metadata": {},
   "source": [
    "For confirming our validation above, I executed once more to show is there any null values in the dataset. Result inferred there is no null values and we okay to go to the next section for checking the values in the columns."
   ]
  },
  {
   "cell_type": "markdown",
   "id": "79baabf9",
   "metadata": {},
   "source": [
    "### 2. Data Cleaning"
   ]
  },
  {
   "cell_type": "code",
   "execution_count": 9,
   "id": "e385f20f",
   "metadata": {},
   "outputs": [
    {
     "data": {
      "text/html": [
       "<div>\n",
       "<style scoped>\n",
       "    .dataframe tbody tr th:only-of-type {\n",
       "        vertical-align: middle;\n",
       "    }\n",
       "\n",
       "    .dataframe tbody tr th {\n",
       "        vertical-align: top;\n",
       "    }\n",
       "\n",
       "    .dataframe thead th {\n",
       "        text-align: right;\n",
       "    }\n",
       "</style>\n",
       "<table border=\"1\" class=\"dataframe\">\n",
       "  <thead>\n",
       "    <tr style=\"text-align: right;\">\n",
       "      <th></th>\n",
       "      <th>User_ID</th>\n",
       "      <th>Product_ID</th>\n",
       "      <th>Category</th>\n",
       "      <th>Price</th>\n",
       "      <th>Discounts</th>\n",
       "      <th>Final_Price</th>\n",
       "      <th>Payment_Method</th>\n",
       "      <th>Purchase_Date</th>\n",
       "    </tr>\n",
       "  </thead>\n",
       "  <tbody>\n",
       "    <tr>\n",
       "      <th>0</th>\n",
       "      <td>337c166f</td>\n",
       "      <td>f414122f-e</td>\n",
       "      <td>Sports</td>\n",
       "      <td>36.53</td>\n",
       "      <td>15</td>\n",
       "      <td>31.05</td>\n",
       "      <td>Net Banking</td>\n",
       "      <td>12-11-2024</td>\n",
       "    </tr>\n",
       "    <tr>\n",
       "      <th>1</th>\n",
       "      <td>d38a19bf</td>\n",
       "      <td>fde50f9c-5</td>\n",
       "      <td>Clothing</td>\n",
       "      <td>232.79</td>\n",
       "      <td>20</td>\n",
       "      <td>186.23</td>\n",
       "      <td>Net Banking</td>\n",
       "      <td>09-02-2024</td>\n",
       "    </tr>\n",
       "    <tr>\n",
       "      <th>2</th>\n",
       "      <td>d7f5f0b0</td>\n",
       "      <td>0d96fc90-3</td>\n",
       "      <td>Sports</td>\n",
       "      <td>317.02</td>\n",
       "      <td>25</td>\n",
       "      <td>237.76</td>\n",
       "      <td>Credit Card</td>\n",
       "      <td>01-09-2024</td>\n",
       "    </tr>\n",
       "    <tr>\n",
       "      <th>3</th>\n",
       "      <td>395d4994</td>\n",
       "      <td>964fc44b-d</td>\n",
       "      <td>Toys</td>\n",
       "      <td>173.19</td>\n",
       "      <td>25</td>\n",
       "      <td>129.89</td>\n",
       "      <td>UPI</td>\n",
       "      <td>01-04-2024</td>\n",
       "    </tr>\n",
       "    <tr>\n",
       "      <th>4</th>\n",
       "      <td>a83c145c</td>\n",
       "      <td>d70e2fc6-e</td>\n",
       "      <td>Beauty</td>\n",
       "      <td>244.80</td>\n",
       "      <td>20</td>\n",
       "      <td>195.84</td>\n",
       "      <td>Net Banking</td>\n",
       "      <td>27-09-2024</td>\n",
       "    </tr>\n",
       "    <tr>\n",
       "      <th>...</th>\n",
       "      <td>...</td>\n",
       "      <td>...</td>\n",
       "      <td>...</td>\n",
       "      <td>...</td>\n",
       "      <td>...</td>\n",
       "      <td>...</td>\n",
       "      <td>...</td>\n",
       "      <td>...</td>\n",
       "    </tr>\n",
       "    <tr>\n",
       "      <th>3655</th>\n",
       "      <td>67abda0a</td>\n",
       "      <td>28714133-6</td>\n",
       "      <td>Beauty</td>\n",
       "      <td>486.79</td>\n",
       "      <td>0</td>\n",
       "      <td>486.79</td>\n",
       "      <td>UPI</td>\n",
       "      <td>14-05-2024</td>\n",
       "    </tr>\n",
       "    <tr>\n",
       "      <th>3656</th>\n",
       "      <td>34ebc1a0</td>\n",
       "      <td>08838c2c-9</td>\n",
       "      <td>Toys</td>\n",
       "      <td>212.87</td>\n",
       "      <td>15</td>\n",
       "      <td>180.94</td>\n",
       "      <td>Cash on Delivery</td>\n",
       "      <td>19-11-2024</td>\n",
       "    </tr>\n",
       "    <tr>\n",
       "      <th>3657</th>\n",
       "      <td>1defd3b1</td>\n",
       "      <td>c39a4f16-6</td>\n",
       "      <td>Home &amp; Kitchen</td>\n",
       "      <td>389.76</td>\n",
       "      <td>0</td>\n",
       "      <td>389.76</td>\n",
       "      <td>Net Banking</td>\n",
       "      <td>07-08-2024</td>\n",
       "    </tr>\n",
       "    <tr>\n",
       "      <th>3658</th>\n",
       "      <td>0611293d</td>\n",
       "      <td>b4f67f96-9</td>\n",
       "      <td>Electronics</td>\n",
       "      <td>447.66</td>\n",
       "      <td>30</td>\n",
       "      <td>313.36</td>\n",
       "      <td>UPI</td>\n",
       "      <td>21-05-2024</td>\n",
       "    </tr>\n",
       "    <tr>\n",
       "      <th>3659</th>\n",
       "      <td>e73ad07c</td>\n",
       "      <td>a5d07442-d</td>\n",
       "      <td>Home &amp; Kitchen</td>\n",
       "      <td>235.77</td>\n",
       "      <td>30</td>\n",
       "      <td>165.04</td>\n",
       "      <td>UPI</td>\n",
       "      <td>14-04-2024</td>\n",
       "    </tr>\n",
       "  </tbody>\n",
       "</table>\n",
       "<p>3660 rows × 8 columns</p>\n",
       "</div>"
      ],
      "text/plain": [
       "       User_ID  Product_ID        Category   Price  Discounts  Final_Price  \\\n",
       "0     337c166f  f414122f-e          Sports   36.53         15        31.05   \n",
       "1     d38a19bf  fde50f9c-5        Clothing  232.79         20       186.23   \n",
       "2     d7f5f0b0  0d96fc90-3          Sports  317.02         25       237.76   \n",
       "3     395d4994  964fc44b-d            Toys  173.19         25       129.89   \n",
       "4     a83c145c  d70e2fc6-e          Beauty  244.80         20       195.84   \n",
       "...        ...         ...             ...     ...        ...          ...   \n",
       "3655  67abda0a  28714133-6          Beauty  486.79          0       486.79   \n",
       "3656  34ebc1a0  08838c2c-9            Toys  212.87         15       180.94   \n",
       "3657  1defd3b1  c39a4f16-6  Home & Kitchen  389.76          0       389.76   \n",
       "3658  0611293d  b4f67f96-9     Electronics  447.66         30       313.36   \n",
       "3659  e73ad07c  a5d07442-d  Home & Kitchen  235.77         30       165.04   \n",
       "\n",
       "        Payment_Method Purchase_Date  \n",
       "0          Net Banking    12-11-2024  \n",
       "1          Net Banking    09-02-2024  \n",
       "2          Credit Card    01-09-2024  \n",
       "3                  UPI    01-04-2024  \n",
       "4          Net Banking    27-09-2024  \n",
       "...                ...           ...  \n",
       "3655               UPI    14-05-2024  \n",
       "3656  Cash on Delivery    19-11-2024  \n",
       "3657       Net Banking    07-08-2024  \n",
       "3658               UPI    21-05-2024  \n",
       "3659               UPI    14-04-2024  \n",
       "\n",
       "[3660 rows x 8 columns]"
      ]
     },
     "execution_count": 9,
     "metadata": {},
     "output_type": "execute_result"
    }
   ],
   "source": [
    "# Rename several columns name and unnecessary whitespace in the columns\n",
    "df.rename(columns={'Price (Rs.)' : 'Price'}, inplace=True) # Inplace True to read it as string value so it would precisely update the name\n",
    "df.rename(columns={'Discount (%)' : 'Discounts'}, inplace=True)\n",
    "df.rename(columns={'Final_Price(Rs.)' : 'Final_Price'}, inplace=True)\n",
    "df"
   ]
  },
  {
   "cell_type": "code",
   "execution_count": 10,
   "id": "4f98a092",
   "metadata": {},
   "outputs": [
    {
     "data": {
      "text/plain": [
       "['User_ID',\n",
       " 'Product_ID',\n",
       " 'Category',\n",
       " 'Price',\n",
       " 'Discounts',\n",
       " 'Final_Price',\n",
       " 'Payment_Method',\n",
       " 'Purchase_Date']"
      ]
     },
     "execution_count": 10,
     "metadata": {},
     "output_type": "execute_result"
    }
   ],
   "source": [
    "# List columns\n",
    "df.columns.tolist()"
   ]
  },
  {
   "cell_type": "markdown",
   "id": "0a87a867",
   "metadata": {},
   "source": [
    "We already did to rename the data columns to clean unnecessary string characters."
   ]
  },
  {
   "cell_type": "code",
   "execution_count": 11,
   "id": "801f4f35",
   "metadata": {},
   "outputs": [
    {
     "data": {
      "text/html": [
       "<div>\n",
       "<style scoped>\n",
       "    .dataframe tbody tr th:only-of-type {\n",
       "        vertical-align: middle;\n",
       "    }\n",
       "\n",
       "    .dataframe tbody tr th {\n",
       "        vertical-align: top;\n",
       "    }\n",
       "\n",
       "    .dataframe thead th {\n",
       "        text-align: right;\n",
       "    }\n",
       "</style>\n",
       "<table border=\"1\" class=\"dataframe\">\n",
       "  <thead>\n",
       "    <tr style=\"text-align: right;\">\n",
       "      <th></th>\n",
       "      <th>User_ID</th>\n",
       "      <th>Product_ID</th>\n",
       "      <th>Category</th>\n",
       "      <th>Price</th>\n",
       "      <th>Discounts</th>\n",
       "      <th>Final_Price</th>\n",
       "      <th>Payment_Method</th>\n",
       "      <th>Purchase_Date</th>\n",
       "    </tr>\n",
       "  </thead>\n",
       "  <tbody>\n",
       "    <tr>\n",
       "      <th>0</th>\n",
       "      <td>337c166f</td>\n",
       "      <td>f414122f-e</td>\n",
       "      <td>Sports</td>\n",
       "      <td>36.53</td>\n",
       "      <td>0.15</td>\n",
       "      <td>31.05</td>\n",
       "      <td>Net Banking</td>\n",
       "      <td>12-11-2024</td>\n",
       "    </tr>\n",
       "    <tr>\n",
       "      <th>1</th>\n",
       "      <td>d38a19bf</td>\n",
       "      <td>fde50f9c-5</td>\n",
       "      <td>Clothing</td>\n",
       "      <td>232.79</td>\n",
       "      <td>0.20</td>\n",
       "      <td>186.23</td>\n",
       "      <td>Net Banking</td>\n",
       "      <td>09-02-2024</td>\n",
       "    </tr>\n",
       "    <tr>\n",
       "      <th>2</th>\n",
       "      <td>d7f5f0b0</td>\n",
       "      <td>0d96fc90-3</td>\n",
       "      <td>Sports</td>\n",
       "      <td>317.02</td>\n",
       "      <td>0.25</td>\n",
       "      <td>237.76</td>\n",
       "      <td>Credit Card</td>\n",
       "      <td>01-09-2024</td>\n",
       "    </tr>\n",
       "    <tr>\n",
       "      <th>3</th>\n",
       "      <td>395d4994</td>\n",
       "      <td>964fc44b-d</td>\n",
       "      <td>Toys</td>\n",
       "      <td>173.19</td>\n",
       "      <td>0.25</td>\n",
       "      <td>129.89</td>\n",
       "      <td>UPI</td>\n",
       "      <td>01-04-2024</td>\n",
       "    </tr>\n",
       "    <tr>\n",
       "      <th>4</th>\n",
       "      <td>a83c145c</td>\n",
       "      <td>d70e2fc6-e</td>\n",
       "      <td>Beauty</td>\n",
       "      <td>244.80</td>\n",
       "      <td>0.20</td>\n",
       "      <td>195.84</td>\n",
       "      <td>Net Banking</td>\n",
       "      <td>27-09-2024</td>\n",
       "    </tr>\n",
       "    <tr>\n",
       "      <th>...</th>\n",
       "      <td>...</td>\n",
       "      <td>...</td>\n",
       "      <td>...</td>\n",
       "      <td>...</td>\n",
       "      <td>...</td>\n",
       "      <td>...</td>\n",
       "      <td>...</td>\n",
       "      <td>...</td>\n",
       "    </tr>\n",
       "    <tr>\n",
       "      <th>3655</th>\n",
       "      <td>67abda0a</td>\n",
       "      <td>28714133-6</td>\n",
       "      <td>Beauty</td>\n",
       "      <td>486.79</td>\n",
       "      <td>0.00</td>\n",
       "      <td>486.79</td>\n",
       "      <td>UPI</td>\n",
       "      <td>14-05-2024</td>\n",
       "    </tr>\n",
       "    <tr>\n",
       "      <th>3656</th>\n",
       "      <td>34ebc1a0</td>\n",
       "      <td>08838c2c-9</td>\n",
       "      <td>Toys</td>\n",
       "      <td>212.87</td>\n",
       "      <td>0.15</td>\n",
       "      <td>180.94</td>\n",
       "      <td>Cash on Delivery</td>\n",
       "      <td>19-11-2024</td>\n",
       "    </tr>\n",
       "    <tr>\n",
       "      <th>3657</th>\n",
       "      <td>1defd3b1</td>\n",
       "      <td>c39a4f16-6</td>\n",
       "      <td>Home &amp; Kitchen</td>\n",
       "      <td>389.76</td>\n",
       "      <td>0.00</td>\n",
       "      <td>389.76</td>\n",
       "      <td>Net Banking</td>\n",
       "      <td>07-08-2024</td>\n",
       "    </tr>\n",
       "    <tr>\n",
       "      <th>3658</th>\n",
       "      <td>0611293d</td>\n",
       "      <td>b4f67f96-9</td>\n",
       "      <td>Electronics</td>\n",
       "      <td>447.66</td>\n",
       "      <td>0.30</td>\n",
       "      <td>313.36</td>\n",
       "      <td>UPI</td>\n",
       "      <td>21-05-2024</td>\n",
       "    </tr>\n",
       "    <tr>\n",
       "      <th>3659</th>\n",
       "      <td>e73ad07c</td>\n",
       "      <td>a5d07442-d</td>\n",
       "      <td>Home &amp; Kitchen</td>\n",
       "      <td>235.77</td>\n",
       "      <td>0.30</td>\n",
       "      <td>165.04</td>\n",
       "      <td>UPI</td>\n",
       "      <td>14-04-2024</td>\n",
       "    </tr>\n",
       "  </tbody>\n",
       "</table>\n",
       "<p>3660 rows × 8 columns</p>\n",
       "</div>"
      ],
      "text/plain": [
       "       User_ID  Product_ID        Category   Price  Discounts  Final_Price  \\\n",
       "0     337c166f  f414122f-e          Sports   36.53       0.15        31.05   \n",
       "1     d38a19bf  fde50f9c-5        Clothing  232.79       0.20       186.23   \n",
       "2     d7f5f0b0  0d96fc90-3          Sports  317.02       0.25       237.76   \n",
       "3     395d4994  964fc44b-d            Toys  173.19       0.25       129.89   \n",
       "4     a83c145c  d70e2fc6-e          Beauty  244.80       0.20       195.84   \n",
       "...        ...         ...             ...     ...        ...          ...   \n",
       "3655  67abda0a  28714133-6          Beauty  486.79       0.00       486.79   \n",
       "3656  34ebc1a0  08838c2c-9            Toys  212.87       0.15       180.94   \n",
       "3657  1defd3b1  c39a4f16-6  Home & Kitchen  389.76       0.00       389.76   \n",
       "3658  0611293d  b4f67f96-9     Electronics  447.66       0.30       313.36   \n",
       "3659  e73ad07c  a5d07442-d  Home & Kitchen  235.77       0.30       165.04   \n",
       "\n",
       "        Payment_Method Purchase_Date  \n",
       "0          Net Banking    12-11-2024  \n",
       "1          Net Banking    09-02-2024  \n",
       "2          Credit Card    01-09-2024  \n",
       "3                  UPI    01-04-2024  \n",
       "4          Net Banking    27-09-2024  \n",
       "...                ...           ...  \n",
       "3655               UPI    14-05-2024  \n",
       "3656  Cash on Delivery    19-11-2024  \n",
       "3657       Net Banking    07-08-2024  \n",
       "3658               UPI    21-05-2024  \n",
       "3659               UPI    14-04-2024  \n",
       "\n",
       "[3660 rows x 8 columns]"
      ]
     },
     "execution_count": 11,
     "metadata": {},
     "output_type": "execute_result"
    }
   ],
   "source": [
    "# Handling the data type for Discounts Columns to be float\n",
    "df['Discounts'] = df['Discounts']/100\n",
    "df['Discounts'] = df['Discounts'].astype(float)\n",
    "df"
   ]
  },
  {
   "cell_type": "code",
   "execution_count": 12,
   "id": "2cf1d38e",
   "metadata": {},
   "outputs": [
    {
     "name": "stdout",
     "output_type": "stream",
     "text": [
      "<class 'pandas.core.frame.DataFrame'>\n",
      "RangeIndex: 3660 entries, 0 to 3659\n",
      "Data columns (total 8 columns):\n",
      " #   Column          Non-Null Count  Dtype  \n",
      "---  ------          --------------  -----  \n",
      " 0   User_ID         3660 non-null   object \n",
      " 1   Product_ID      3660 non-null   object \n",
      " 2   Category        3660 non-null   object \n",
      " 3   Price           3660 non-null   float64\n",
      " 4   Discounts       3660 non-null   float64\n",
      " 5   Final_Price     3660 non-null   float64\n",
      " 6   Payment_Method  3660 non-null   object \n",
      " 7   Purchase_Date   3660 non-null   object \n",
      "dtypes: float64(3), object(5)\n",
      "memory usage: 228.9+ KB\n"
     ]
    }
   ],
   "source": [
    "# DataFrame info\n",
    "df.info()"
   ]
  },
  {
   "cell_type": "markdown",
   "id": "b9e0ef44",
   "metadata": {},
   "source": [
    "Now we be good, after the handling we can do much more analysis after we convert discounts value to float and divided by 100. Since we need it later on for analysis, discounts must be in the form of decimal and float type."
   ]
  },
  {
   "cell_type": "markdown",
   "id": "fe8414c3",
   "metadata": {},
   "source": [
    "## C. Data Analysis\n",
    "___"
   ]
  },
  {
   "cell_type": "markdown",
   "id": "754e57c2",
   "metadata": {},
   "source": [
    "### 1. Top Product Categories by Revenue "
   ]
  },
  {
   "cell_type": "markdown",
   "id": "b1fd077b",
   "metadata": {},
   "source": [
    "#### First we have to know the quantity sold from the data that are not given\n"
   ]
  },
  {
   "cell_type": "code",
   "execution_count": 13,
   "id": "10022710",
   "metadata": {},
   "outputs": [
    {
     "data": {
      "text/html": [
       "<div>\n",
       "<style scoped>\n",
       "    .dataframe tbody tr th:only-of-type {\n",
       "        vertical-align: middle;\n",
       "    }\n",
       "\n",
       "    .dataframe tbody tr th {\n",
       "        vertical-align: top;\n",
       "    }\n",
       "\n",
       "    .dataframe thead th {\n",
       "        text-align: right;\n",
       "    }\n",
       "</style>\n",
       "<table border=\"1\" class=\"dataframe\">\n",
       "  <thead>\n",
       "    <tr style=\"text-align: right;\">\n",
       "      <th></th>\n",
       "      <th>User_ID</th>\n",
       "      <th>Product_ID</th>\n",
       "      <th>Category</th>\n",
       "      <th>Price</th>\n",
       "      <th>Discounts</th>\n",
       "      <th>Final_Price</th>\n",
       "      <th>Payment_Method</th>\n",
       "      <th>Purchase_Date</th>\n",
       "      <th>Quantity_Sold</th>\n",
       "      <th>Revenue</th>\n",
       "    </tr>\n",
       "  </thead>\n",
       "  <tbody>\n",
       "    <tr>\n",
       "      <th>0</th>\n",
       "      <td>337c166f</td>\n",
       "      <td>f414122f-e</td>\n",
       "      <td>Sports</td>\n",
       "      <td>36.53</td>\n",
       "      <td>0.15</td>\n",
       "      <td>31.05</td>\n",
       "      <td>Net Banking</td>\n",
       "      <td>12-11-2024</td>\n",
       "      <td>1</td>\n",
       "      <td>31.05</td>\n",
       "    </tr>\n",
       "    <tr>\n",
       "      <th>1</th>\n",
       "      <td>d38a19bf</td>\n",
       "      <td>fde50f9c-5</td>\n",
       "      <td>Clothing</td>\n",
       "      <td>232.79</td>\n",
       "      <td>0.20</td>\n",
       "      <td>186.23</td>\n",
       "      <td>Net Banking</td>\n",
       "      <td>09-02-2024</td>\n",
       "      <td>1</td>\n",
       "      <td>186.23</td>\n",
       "    </tr>\n",
       "    <tr>\n",
       "      <th>2</th>\n",
       "      <td>d7f5f0b0</td>\n",
       "      <td>0d96fc90-3</td>\n",
       "      <td>Sports</td>\n",
       "      <td>317.02</td>\n",
       "      <td>0.25</td>\n",
       "      <td>237.76</td>\n",
       "      <td>Credit Card</td>\n",
       "      <td>01-09-2024</td>\n",
       "      <td>1</td>\n",
       "      <td>237.76</td>\n",
       "    </tr>\n",
       "    <tr>\n",
       "      <th>3</th>\n",
       "      <td>395d4994</td>\n",
       "      <td>964fc44b-d</td>\n",
       "      <td>Toys</td>\n",
       "      <td>173.19</td>\n",
       "      <td>0.25</td>\n",
       "      <td>129.89</td>\n",
       "      <td>UPI</td>\n",
       "      <td>01-04-2024</td>\n",
       "      <td>1</td>\n",
       "      <td>129.89</td>\n",
       "    </tr>\n",
       "    <tr>\n",
       "      <th>4</th>\n",
       "      <td>a83c145c</td>\n",
       "      <td>d70e2fc6-e</td>\n",
       "      <td>Beauty</td>\n",
       "      <td>244.80</td>\n",
       "      <td>0.20</td>\n",
       "      <td>195.84</td>\n",
       "      <td>Net Banking</td>\n",
       "      <td>27-09-2024</td>\n",
       "      <td>1</td>\n",
       "      <td>195.84</td>\n",
       "    </tr>\n",
       "    <tr>\n",
       "      <th>...</th>\n",
       "      <td>...</td>\n",
       "      <td>...</td>\n",
       "      <td>...</td>\n",
       "      <td>...</td>\n",
       "      <td>...</td>\n",
       "      <td>...</td>\n",
       "      <td>...</td>\n",
       "      <td>...</td>\n",
       "      <td>...</td>\n",
       "      <td>...</td>\n",
       "    </tr>\n",
       "    <tr>\n",
       "      <th>3655</th>\n",
       "      <td>67abda0a</td>\n",
       "      <td>28714133-6</td>\n",
       "      <td>Beauty</td>\n",
       "      <td>486.79</td>\n",
       "      <td>0.00</td>\n",
       "      <td>486.79</td>\n",
       "      <td>UPI</td>\n",
       "      <td>14-05-2024</td>\n",
       "      <td>1</td>\n",
       "      <td>486.79</td>\n",
       "    </tr>\n",
       "    <tr>\n",
       "      <th>3656</th>\n",
       "      <td>34ebc1a0</td>\n",
       "      <td>08838c2c-9</td>\n",
       "      <td>Toys</td>\n",
       "      <td>212.87</td>\n",
       "      <td>0.15</td>\n",
       "      <td>180.94</td>\n",
       "      <td>Cash on Delivery</td>\n",
       "      <td>19-11-2024</td>\n",
       "      <td>1</td>\n",
       "      <td>180.94</td>\n",
       "    </tr>\n",
       "    <tr>\n",
       "      <th>3657</th>\n",
       "      <td>1defd3b1</td>\n",
       "      <td>c39a4f16-6</td>\n",
       "      <td>Home &amp; Kitchen</td>\n",
       "      <td>389.76</td>\n",
       "      <td>0.00</td>\n",
       "      <td>389.76</td>\n",
       "      <td>Net Banking</td>\n",
       "      <td>07-08-2024</td>\n",
       "      <td>1</td>\n",
       "      <td>389.76</td>\n",
       "    </tr>\n",
       "    <tr>\n",
       "      <th>3658</th>\n",
       "      <td>0611293d</td>\n",
       "      <td>b4f67f96-9</td>\n",
       "      <td>Electronics</td>\n",
       "      <td>447.66</td>\n",
       "      <td>0.30</td>\n",
       "      <td>313.36</td>\n",
       "      <td>UPI</td>\n",
       "      <td>21-05-2024</td>\n",
       "      <td>1</td>\n",
       "      <td>313.36</td>\n",
       "    </tr>\n",
       "    <tr>\n",
       "      <th>3659</th>\n",
       "      <td>e73ad07c</td>\n",
       "      <td>a5d07442-d</td>\n",
       "      <td>Home &amp; Kitchen</td>\n",
       "      <td>235.77</td>\n",
       "      <td>0.30</td>\n",
       "      <td>165.04</td>\n",
       "      <td>UPI</td>\n",
       "      <td>14-04-2024</td>\n",
       "      <td>1</td>\n",
       "      <td>165.04</td>\n",
       "    </tr>\n",
       "  </tbody>\n",
       "</table>\n",
       "<p>3660 rows × 10 columns</p>\n",
       "</div>"
      ],
      "text/plain": [
       "       User_ID  Product_ID        Category   Price  Discounts  Final_Price  \\\n",
       "0     337c166f  f414122f-e          Sports   36.53       0.15        31.05   \n",
       "1     d38a19bf  fde50f9c-5        Clothing  232.79       0.20       186.23   \n",
       "2     d7f5f0b0  0d96fc90-3          Sports  317.02       0.25       237.76   \n",
       "3     395d4994  964fc44b-d            Toys  173.19       0.25       129.89   \n",
       "4     a83c145c  d70e2fc6-e          Beauty  244.80       0.20       195.84   \n",
       "...        ...         ...             ...     ...        ...          ...   \n",
       "3655  67abda0a  28714133-6          Beauty  486.79       0.00       486.79   \n",
       "3656  34ebc1a0  08838c2c-9            Toys  212.87       0.15       180.94   \n",
       "3657  1defd3b1  c39a4f16-6  Home & Kitchen  389.76       0.00       389.76   \n",
       "3658  0611293d  b4f67f96-9     Electronics  447.66       0.30       313.36   \n",
       "3659  e73ad07c  a5d07442-d  Home & Kitchen  235.77       0.30       165.04   \n",
       "\n",
       "        Payment_Method Purchase_Date  Quantity_Sold  Revenue  \n",
       "0          Net Banking    12-11-2024              1    31.05  \n",
       "1          Net Banking    09-02-2024              1   186.23  \n",
       "2          Credit Card    01-09-2024              1   237.76  \n",
       "3                  UPI    01-04-2024              1   129.89  \n",
       "4          Net Banking    27-09-2024              1   195.84  \n",
       "...                ...           ...            ...      ...  \n",
       "3655               UPI    14-05-2024              1   486.79  \n",
       "3656  Cash on Delivery    19-11-2024              1   180.94  \n",
       "3657       Net Banking    07-08-2024              1   389.76  \n",
       "3658               UPI    21-05-2024              1   313.36  \n",
       "3659               UPI    14-04-2024              1   165.04  \n",
       "\n",
       "[3660 rows x 10 columns]"
      ]
     },
     "execution_count": 13,
     "metadata": {},
     "output_type": "execute_result"
    }
   ],
   "source": [
    "# Create new df with group by from the product id\n",
    "sales = df.groupby('Product_ID').size().reset_index(name='Quantity_Sold')\n",
    "\n",
    "# Merge on with Product_ID\n",
    "df_new = df.merge(sales, on='Product_ID')\n",
    "\n",
    "# Generate new column for Revenue\n",
    "df_new[\"Revenue\"] = df_new['Final_Price'] * df_new['Quantity_Sold']\n",
    "\n",
    "df_new"
   ]
  },
  {
   "cell_type": "markdown",
   "id": "b004de10",
   "metadata": {},
   "source": [
    "Because we want to know the revenue for top categories we need to get the unique value in Category columns."
   ]
  },
  {
   "cell_type": "code",
   "execution_count": 14,
   "id": "1999ea2d",
   "metadata": {},
   "outputs": [
    {
     "data": {
      "text/plain": [
       "['Sports',\n",
       " 'Clothing',\n",
       " 'Toys',\n",
       " 'Beauty',\n",
       " 'Books',\n",
       " 'Home & Kitchen',\n",
       " 'Electronics']"
      ]
     },
     "execution_count": 14,
     "metadata": {},
     "output_type": "execute_result"
    }
   ],
   "source": [
    "# Get the unique value in Category column\n",
    "df_new['Category'].unique().tolist()"
   ]
  },
  {
   "cell_type": "markdown",
   "id": "9e5d6e38",
   "metadata": {},
   "source": [
    "There is 6 Category in product sold and this list are going to use as the based for the visualization of Top Generating Revenue by Categories Group."
   ]
  },
  {
   "cell_type": "markdown",
   "id": "b1dec0cc",
   "metadata": {},
   "source": [
    "#### a. Histogram Bar per Product Category"
   ]
  },
  {
   "cell_type": "code",
   "execution_count": 15,
   "id": "41f07f02",
   "metadata": {},
   "outputs": [
    {
     "data": {
      "text/html": [
       "<div>\n",
       "<style scoped>\n",
       "    .dataframe tbody tr th:only-of-type {\n",
       "        vertical-align: middle;\n",
       "    }\n",
       "\n",
       "    .dataframe tbody tr th {\n",
       "        vertical-align: top;\n",
       "    }\n",
       "\n",
       "    .dataframe thead th {\n",
       "        text-align: right;\n",
       "    }\n",
       "</style>\n",
       "<table border=\"1\" class=\"dataframe\">\n",
       "  <thead>\n",
       "    <tr style=\"text-align: right;\">\n",
       "      <th></th>\n",
       "      <th>Category</th>\n",
       "      <th>Revenue</th>\n",
       "      <th>User_ID</th>\n",
       "    </tr>\n",
       "  </thead>\n",
       "  <tbody>\n",
       "    <tr>\n",
       "      <th>2</th>\n",
       "      <td>Clothing</td>\n",
       "      <td>115314.84</td>\n",
       "      <td>531</td>\n",
       "    </tr>\n",
       "    <tr>\n",
       "      <th>1</th>\n",
       "      <td>Books</td>\n",
       "      <td>111149.35</td>\n",
       "      <td>534</td>\n",
       "    </tr>\n",
       "    <tr>\n",
       "      <th>4</th>\n",
       "      <td>Home &amp; Kitchen</td>\n",
       "      <td>110328.08</td>\n",
       "      <td>549</td>\n",
       "    </tr>\n",
       "    <tr>\n",
       "      <th>5</th>\n",
       "      <td>Sports</td>\n",
       "      <td>108518.79</td>\n",
       "      <td>520</td>\n",
       "    </tr>\n",
       "    <tr>\n",
       "      <th>6</th>\n",
       "      <td>Toys</td>\n",
       "      <td>107289.69</td>\n",
       "      <td>523</td>\n",
       "    </tr>\n",
       "    <tr>\n",
       "      <th>0</th>\n",
       "      <td>Beauty</td>\n",
       "      <td>104215.10</td>\n",
       "      <td>505</td>\n",
       "    </tr>\n",
       "    <tr>\n",
       "      <th>3</th>\n",
       "      <td>Electronics</td>\n",
       "      <td>100462.23</td>\n",
       "      <td>498</td>\n",
       "    </tr>\n",
       "  </tbody>\n",
       "</table>\n",
       "</div>"
      ],
      "text/plain": [
       "         Category    Revenue  User_ID\n",
       "2        Clothing  115314.84      531\n",
       "1           Books  111149.35      534\n",
       "4  Home & Kitchen  110328.08      549\n",
       "5          Sports  108518.79      520\n",
       "6            Toys  107289.69      523\n",
       "0          Beauty  104215.10      505\n",
       "3     Electronics  100462.23      498"
      ]
     },
     "execution_count": 15,
     "metadata": {},
     "output_type": "execute_result"
    }
   ],
   "source": [
    "# Were going to show overall product categories revenue with stacked bar \n",
    "\n",
    "# New Variable only for Revenue\n",
    "prod_cat_rev = df_new.groupby(by=['Category'], as_index=False).agg({\"Revenue\": \"sum\"}).sort_values(by='Revenue', ascending=False)[:7]\n",
    "\n",
    "prod_cat_userid = df_new.groupby(by=['Category'], as_index=False).agg({\"User_ID\":\"count\"}).sort_values(by='User_ID', ascending=False) [:7]\n",
    "\n",
    "# Variable for Revenue and User_Id (count)\n",
    "prod_cat_comp = df_new.groupby(by=['Category'], as_index=False).agg({\"Revenue\": \"sum\", \"User_ID\":\"count\"}).sort_values(by='Revenue', ascending=False)[:7]\n",
    "prod_cat_comp"
   ]
  },
  {
   "cell_type": "markdown",
   "id": "dd740da4",
   "metadata": {},
   "source": [
    "The column consist of the sum of Revenue and the Count of User_ID that has been spending (doing transaction) for these particular products category."
   ]
  },
  {
   "cell_type": "code",
   "execution_count": 16,
   "id": "c9419040",
   "metadata": {},
   "outputs": [
    {
     "data": {
      "image/png": "[encoded data removed]",
      "text/plain": [
       "<Figure size 1200x600 with 1 Axes>"
      ]
     },
     "metadata": {},
     "output_type": "display_data"
    }
   ],
   "source": [
    "# Plot The Color Map\n",
    "color_map = [\"#889cbf\" for _ in range(len(prod_cat_comp))]\n",
    "color_map[0] = color_map[1] = color_map[2] = \"#073282\" # for color highlight\n",
    "\n",
    "# Set the subplots\n",
    "fig, ax = plt.subplots(1,1, figsize=(12, 6))\n",
    "ax.bar(prod_cat_comp['Category'], prod_cat_comp['Revenue'], width=0.5,\n",
    "       edgecolor = 'darkgray',\n",
    "       linewidth = 0.6, color=color_map)  # axis setting for the bar for column Category and Revenue\n",
    "\n",
    "# Annotations\n",
    "for i in range(len(prod_cat_comp)):    # let the range access through loop for all range of columns in prod_cat_comp df\n",
    "    ax.annotate(f\"{prod_cat_comp['Revenue'].iloc[i]}\", # using iloc to access and iterate the index in those particular columns \n",
    "                xy=(prod_cat_comp['Category'].iloc[i], prod_cat_comp['Revenue'].iloc[i] + 150), # creating the axis x and y the use of iloc is to \n",
    "                                                                                                # iterate the same rows from each column so the data dont overlapping\n",
    "                va = 'center', ha='center', fontweight='light', fontfamily = 'serif')\n",
    "    \n",
    "# Remove border from the plot\n",
    "for s in ['top', 'left', 'right']:\n",
    "    ax.spines[s].set_visible(False)\n",
    "\n",
    "# Tick labels\n",
    "ax.set_xticks(np.arange(len(prod_cat_comp)))\n",
    "ax.set_xticklabels(prod_cat_comp['Category'], fontfamily='serif', rotation=0)\n",
    "\n",
    "# Title and sub-title\n",
    "fig.text(0.09, 1, 'Top Revenue by Product Categories', fontsize=17, fontweight='bold', fontfamily='serif')\n",
    "fig.text(0.09, 0.95, 'Top 3 Categories by Revenue Highlighted', fontsize=14, fontweight='light', fontfamily='serif')\n",
    "\n",
    "# Axis Settings for the graph\n",
    "ax.grid(axis='y', linestyle='-', alpha = 0.4)\n",
    "ax.set_yticks(np.arange(0, 130_000, 20_000))\n",
    "ax.set_axisbelow(True)\n",
    "\n",
    "# Set axis title\n",
    "plt.xlabel(\"Product Category\", fontsize=14, fontweight='light', fontfamily='serif',loc='center', labelpad=10)\n",
    "\n",
    "# Import lines for background lines of the bar\n",
    "l1 = lines.Line2D([1, 1], [0, 1], transform=fig.transFigure, figure=fig, color='black',lw=0.8)\n",
    "fig.lines.extend([l1])\n",
    "\n",
    "ax.tick_params(axis=u'both', which=u'both',length=0)\n",
    "\n",
    "plt.show()"
   ]
  },
  {
   "cell_type": "markdown",
   "id": "1f94e0f9",
   "metadata": {},
   "source": [
    "From this plot we know which category are the top amongs others product category. I highlighted top 3 categories that shown on the bar above. Clothing seems to be the most revenue generated products with 115,314 value within its revenue follow by Books and Home & Kitchen (highlight by darker colour palettes). It seems Clothing, Books, Home & Kitchen utensils are fast moving goods in our company's.\n",
    "\n",
    "- Source code reference: Kaggle.com | Joshuaswords | Netflix Data Visualization\n",
    "- Link Notebook: https://www.kaggle.com/code/joshuaswords/netflix-data-visualization/notebook"
   ]
  },
  {
   "cell_type": "code",
   "execution_count": 17,
   "id": "6d7d20dc",
   "metadata": {},
   "outputs": [
    {
     "data": {
      "image/png": "[encoded data removed]",
      "text/plain": [
       "<Figure size 1200x600 with 1 Axes>"
      ]
     },
     "metadata": {},
     "output_type": "display_data"
    }
   ],
   "source": [
    "# Second plot for User_Id\n",
    "# Plot The Color Map\n",
    "color_map = [\"#a4e1bf\" for _ in range(len(prod_cat_userid))]\n",
    "color_map[0] = color_map[1] = color_map[2] = \"#049E6B\" # for color highlight\n",
    "\n",
    "# Set the subplots\n",
    "fig, ax = plt.subplots(1,1, figsize=(12, 6))\n",
    "ax.bar(prod_cat_userid['Category'], prod_cat_userid['User_ID'], width=0.5,\n",
    "       edgecolor = 'darkgray',\n",
    "       linewidth = 0.6, color=color_map) # axis setting for the bar for column Category and User_ID\n",
    "\n",
    "# Annotations\n",
    "for i in range(len(prod_cat_userid)):                    # let the range access through loop for all range of columns in prod_cat_comp df\n",
    "    ax.annotate(f\"{prod_cat_userid['User_ID'].iloc[i]}\", # using iloc to access and iterate the index in those particular columns\n",
    "                xy=(prod_cat_userid['Category'].iloc[i], prod_cat_userid['User_ID'].iloc[i] + 10), # creating the axis x and y the use of iloc is to \n",
    "                                                                                                # iterate the same rows from each column so the data dont overlapping\n",
    "                va = 'center', ha='center', fontweight='light', fontfamily = 'serif')\n",
    "    \n",
    "# Remove border from the plot\n",
    "for s in ['top', 'left', 'right']:\n",
    "    ax.spines[s].set_visible(False)\n",
    "\n",
    "# Tick labels\n",
    "ax.set_xticks(np.arange(len(prod_cat_userid)))\n",
    "ax.set_xticklabels(prod_cat_userid['Category'], fontfamily='serif', rotation=0)\n",
    "\n",
    "# Title and sub-title\n",
    "fig.text(0.09, 1, 'Consumer Segment by Product Categories', fontsize=17, fontweight='bold', fontfamily='serif')\n",
    "fig.text(0.09, 0.95, 'Top 3 Product Category preferred by Consumer Highlighted', fontsize=14, fontweight='light', fontfamily='serif')\n",
    "\n",
    "# Axis Settings\n",
    "ax.grid(axis='y', linestyle='-', alpha = 0.4)\n",
    "ax.set_yticks(np.arange(0, 700, 200))\n",
    "ax.set_axisbelow(True)\n",
    "\n",
    "# Set axis title\n",
    "plt.xlabel(\"Product Category\", fontsize=14, fontweight='light', fontfamily='serif',loc='center', labelpad=10)\n",
    "\n",
    "# Import lines for background lines of the bar\n",
    "l1 = lines.Line2D([1, 1], [0, 1], transform=fig.transFigure, figure=fig, color='black',lw=0.8)\n",
    "fig.lines.extend([l1])\n",
    "\n",
    "ax.tick_params(axis=u'both', which=u'both',length=0)\n",
    "\n",
    "plt.show()"
   ]
  },
  {
   "cell_type": "markdown",
   "id": "27cbc156",
   "metadata": {},
   "source": [
    "Inferred from the graph, for product categories group by consumer segmentation Home & Kitchen is the popular product that consumer preferred follow by Books and Clothing (indicates by darker colour palletes). Based on the description it differed from revenue segmentation this graph that revenue doesn't reflects product popularism. Although, the transaction value for the top categories is not related to each other. Take an example, if we look upon product category named Home & Kitchen we know that those category is not the highest gross sales and only take number 3 place. Instead, if we look into the transactions made by user those category is the most highly or popular among the dataset. We are going to express it in the form of graph later on and extract what affecting factor behind it.\n",
    "\n",
    "- Source code reference: Kaggle.com | Joshuaswords | Netflix Data Visualization\n",
    "- Link Notebook: https://www.kaggle.com/code/joshuaswords/netflix-data-visualization/notebook"
   ]
  },
  {
   "cell_type": "markdown",
   "id": "8a5e0b32",
   "metadata": {},
   "source": [
    "#### b. Pie Chart for Percentage for Revenue and Consumer Segment Contribution"
   ]
  },
  {
   "cell_type": "code",
   "execution_count": 18,
   "id": "15a9f97a",
   "metadata": {},
   "outputs": [
    {
     "data": {
      "text/html": [
       "<div>\n",
       "<style scoped>\n",
       "    .dataframe tbody tr th:only-of-type {\n",
       "        vertical-align: middle;\n",
       "    }\n",
       "\n",
       "    .dataframe tbody tr th {\n",
       "        vertical-align: top;\n",
       "    }\n",
       "\n",
       "    .dataframe thead th {\n",
       "        text-align: right;\n",
       "    }\n",
       "</style>\n",
       "<table border=\"1\" class=\"dataframe\">\n",
       "  <thead>\n",
       "    <tr style=\"text-align: right;\">\n",
       "      <th></th>\n",
       "      <th>Category</th>\n",
       "      <th>User_ID</th>\n",
       "      <th>Percentage_UserID</th>\n",
       "      <th>Revenue</th>\n",
       "      <th>Percentage_Rev</th>\n",
       "    </tr>\n",
       "  </thead>\n",
       "  <tbody>\n",
       "    <tr>\n",
       "      <th>2</th>\n",
       "      <td>Clothing</td>\n",
       "      <td>531</td>\n",
       "      <td>14.51</td>\n",
       "      <td>115314.84</td>\n",
       "      <td>15.23</td>\n",
       "    </tr>\n",
       "    <tr>\n",
       "      <th>1</th>\n",
       "      <td>Books</td>\n",
       "      <td>534</td>\n",
       "      <td>14.59</td>\n",
       "      <td>111149.35</td>\n",
       "      <td>14.68</td>\n",
       "    </tr>\n",
       "    <tr>\n",
       "      <th>0</th>\n",
       "      <td>Home &amp; Kitchen</td>\n",
       "      <td>549</td>\n",
       "      <td>15.00</td>\n",
       "      <td>110328.08</td>\n",
       "      <td>14.57</td>\n",
       "    </tr>\n",
       "    <tr>\n",
       "      <th>4</th>\n",
       "      <td>Sports</td>\n",
       "      <td>520</td>\n",
       "      <td>14.21</td>\n",
       "      <td>108518.79</td>\n",
       "      <td>14.33</td>\n",
       "    </tr>\n",
       "    <tr>\n",
       "      <th>3</th>\n",
       "      <td>Toys</td>\n",
       "      <td>523</td>\n",
       "      <td>14.29</td>\n",
       "      <td>107289.69</td>\n",
       "      <td>14.17</td>\n",
       "    </tr>\n",
       "    <tr>\n",
       "      <th>5</th>\n",
       "      <td>Beauty</td>\n",
       "      <td>505</td>\n",
       "      <td>13.80</td>\n",
       "      <td>104215.10</td>\n",
       "      <td>13.76</td>\n",
       "    </tr>\n",
       "    <tr>\n",
       "      <th>6</th>\n",
       "      <td>Electronics</td>\n",
       "      <td>498</td>\n",
       "      <td>13.61</td>\n",
       "      <td>100462.23</td>\n",
       "      <td>13.27</td>\n",
       "    </tr>\n",
       "  </tbody>\n",
       "</table>\n",
       "</div>"
      ],
      "text/plain": [
       "         Category  User_ID  Percentage_UserID    Revenue  Percentage_Rev\n",
       "2        Clothing      531              14.51  115314.84           15.23\n",
       "1           Books      534              14.59  111149.35           14.68\n",
       "0  Home & Kitchen      549              15.00  110328.08           14.57\n",
       "4          Sports      520              14.21  108518.79           14.33\n",
       "3            Toys      523              14.29  107289.69           14.17\n",
       "5          Beauty      505              13.80  104215.10           13.76\n",
       "6     Electronics      498              13.61  100462.23           13.27"
      ]
     },
     "execution_count": 18,
     "metadata": {},
     "output_type": "execute_result"
    }
   ],
   "source": [
    "# We are going to extract contribution from the popular product category (percentage)\n",
    "userid_count = df_new.groupby(by=['Category'], as_index=False).agg({\"User_ID\":\"count\"})\n",
    "userid_count['Percentage_UserID'] = round((userid_count[\"User_ID\"]/len(df_new)) * 100, 2)\n",
    "userid_pcntg = userid_count.sort_values('Percentage_UserID', ascending=False).reset_index(drop=True)\n",
    "\n",
    "# Same here for the Revenue\n",
    "rev_count = df_new.groupby(by=['Category'], as_index=False).agg({\"Revenue\":\"sum\"})\n",
    "grand_tot = df_new[\"Revenue\"].sum()\n",
    "rev_count['Percentage_Rev'] = round((rev_count[\"Revenue\"]/grand_tot) * 100, 2)\n",
    "rev_pcntg = rev_count.sort_values('Percentage_Rev', ascending=False).reset_index(drop=True)\n",
    "\n",
    "# Merge the two\n",
    "pcntg_all = userid_pcntg.merge(rev_pcntg, on='Category')\n",
    "pcntg_all = pcntg_all.sort_values('Revenue', ascending=False)\n",
    "pcntg_all\n"
   ]
  },
  {
   "cell_type": "code",
   "execution_count": 19,
   "id": "5370afce",
   "metadata": {},
   "outputs": [
    {
     "data": {
      "text/plain": [
       "Text(0.5, 1.0, 'Consumers Popularity Contribution by Product Category')"
      ]
     },
     "execution_count": 19,
     "metadata": {},
     "output_type": "execute_result"
    },
    {
     "data": {
      "image/png": "[encoded data removed]",
      "text/plain": [
       "<Figure size 1200x600 with 2 Axes>"
      ]
     },
     "metadata": {},
     "output_type": "display_data"
    }
   ],
   "source": [
    "# Define the variable for the data\n",
    "labels = pcntg_all['Category']\n",
    "data1 = pcntg_all['User_ID']\n",
    "data2 = pcntg_all['Revenue']\n",
    "\n",
    "# Use Explode for highlighting the top 3\n",
    "explode = [0.1, 0.1, 0.1,] + [0] * (len(labels) - 3) # explode to highlight the top 3 segment, the concept takes a boolean value to execute\n",
    "\n",
    "# Pie Chart Graph for two rows\n",
    "fig, ax = plt.subplots(1,2, figsize=(12, 6)) # there are 1 column and 2 rows to graph\n",
    "\n",
    "# Pie Chart 1 for Revenue Contribution\n",
    "ax[0].pie(data2, labels=labels, autopct='%.2f%%', startangle=90, explode=explode) # auto pct to auto generate percentage proportion \n",
    "ax[0].set_title('Revenue Contribution by Product Category', fontweight='bold', fontfamily='serif')\n",
    "\n",
    "# Pie Chart 2 for Consumer Contribution\n",
    "ax[1].pie(data1, labels=labels, autopct='%.2f%%', startangle=90, explode=explode) # auto pct to auto generate percentage proportion \n",
    "ax[1].set_title('Consumers Popularity Contribution by Product Category', fontweight='bold', fontfamily='serif')\n",
    "\n"
   ]
  },
  {
   "cell_type": "markdown",
   "id": "7cf06a8b",
   "metadata": {},
   "source": [
    "Looking from the graph we came to the conclusion that is for top product categories for revenue and popularity among the consumer, for products like Clothing, Books, and Home & Kitchen. Inferred for Revenue section, Clothing have the highest percentage contribute for Revenue (15.23%) of all products among the products category. Moreover, by the Consumer popularity for the product category Home & Kitchen have contribute (15%) for all the products. This insight inferred that the company should focus on the 3 top categories (Clothing, Books, and Home & Kitchen) to extend their revenue generation from this e-commerce. Next, we going to do more detailed analysis is it true that this 3 products could improve company's income stream."
   ]
  },
  {
   "cell_type": "markdown",
   "id": "f276826a",
   "metadata": {},
   "source": [
    "### 2. Discounted vs non-discounted by Product Category"
   ]
  },
  {
   "cell_type": "markdown",
   "id": "0990c702",
   "metadata": {},
   "source": [
    "In this section first we are going to divide and group product category based on discounted and non-discounted. So we are going to get valuable insight on promotion price settings which product that has good choice to get some price discounted."
   ]
  },
  {
   "cell_type": "code",
   "execution_count": 20,
   "id": "0146ab65",
   "metadata": {},
   "outputs": [
    {
     "data": {
      "text/html": [
       "<div>\n",
       "<style scoped>\n",
       "    .dataframe tbody tr th:only-of-type {\n",
       "        vertical-align: middle;\n",
       "    }\n",
       "\n",
       "    .dataframe tbody tr th {\n",
       "        vertical-align: top;\n",
       "    }\n",
       "\n",
       "    .dataframe thead th {\n",
       "        text-align: right;\n",
       "    }\n",
       "</style>\n",
       "<table border=\"1\" class=\"dataframe\">\n",
       "  <thead>\n",
       "    <tr style=\"text-align: right;\">\n",
       "      <th>Discount_Position</th>\n",
       "      <th>Revenue Non-Discounts</th>\n",
       "      <th>Revenue with Discounts</th>\n",
       "      <th>Sum_Revenue</th>\n",
       "    </tr>\n",
       "    <tr>\n",
       "      <th>Category</th>\n",
       "      <th></th>\n",
       "      <th></th>\n",
       "      <th></th>\n",
       "    </tr>\n",
       "  </thead>\n",
       "  <tbody>\n",
       "    <tr>\n",
       "      <th>Clothing</th>\n",
       "      <td>18645.96</td>\n",
       "      <td>96668.88</td>\n",
       "      <td>115314.84</td>\n",
       "    </tr>\n",
       "    <tr>\n",
       "      <th>Books</th>\n",
       "      <td>16824.45</td>\n",
       "      <td>94324.90</td>\n",
       "      <td>111149.35</td>\n",
       "    </tr>\n",
       "    <tr>\n",
       "      <th>Home &amp; Kitchen</th>\n",
       "      <td>16723.73</td>\n",
       "      <td>93604.35</td>\n",
       "      <td>110328.08</td>\n",
       "    </tr>\n",
       "    <tr>\n",
       "      <th>Sports</th>\n",
       "      <td>18446.98</td>\n",
       "      <td>90071.81</td>\n",
       "      <td>108518.79</td>\n",
       "    </tr>\n",
       "    <tr>\n",
       "      <th>Toys</th>\n",
       "      <td>18956.25</td>\n",
       "      <td>88333.44</td>\n",
       "      <td>107289.69</td>\n",
       "    </tr>\n",
       "    <tr>\n",
       "      <th>Beauty</th>\n",
       "      <td>16347.75</td>\n",
       "      <td>87867.35</td>\n",
       "      <td>104215.10</td>\n",
       "    </tr>\n",
       "    <tr>\n",
       "      <th>Electronics</th>\n",
       "      <td>16558.68</td>\n",
       "      <td>83903.55</td>\n",
       "      <td>100462.23</td>\n",
       "    </tr>\n",
       "  </tbody>\n",
       "</table>\n",
       "</div>"
      ],
      "text/plain": [
       "Discount_Position  Revenue Non-Discounts  Revenue with Discounts  Sum_Revenue\n",
       "Category                                                                     \n",
       "Clothing                        18645.96                96668.88    115314.84\n",
       "Books                           16824.45                94324.90    111149.35\n",
       "Home & Kitchen                  16723.73                93604.35    110328.08\n",
       "Sports                          18446.98                90071.81    108518.79\n",
       "Toys                            18956.25                88333.44    107289.69\n",
       "Beauty                          16347.75                87867.35    104215.10\n",
       "Electronics                     16558.68                83903.55    100462.23"
      ]
     },
     "execution_count": 20,
     "metadata": {},
     "output_type": "execute_result"
    }
   ],
   "source": [
    "# Create new column for discount status\n",
    "df_new['Discount_Position'] = df_new['Discounts'].apply(lambda x: 'Revenue with Discounts' if x > 0 else 'Revenue Non-Discounts')\n",
    "\n",
    "# Group by Product Category with Discount Position\n",
    "rev_group = df_new.groupby(['Category', 'Discount_Position'])['Revenue'].sum().reset_index()\n",
    "\n",
    "# Make pivoting columms to extract in the same rows for Discount position in columns area\n",
    "pivot = rev_group.pivot(index='Category', columns='Discount_Position', values='Revenue')\n",
    "pivot['Sum_Revenue'] = pivot.sum(axis=1)\n",
    "pivot = pivot.sort_values(by='Sum_Revenue', ascending=False)\n",
    "pivot"
   ]
  },
  {
   "cell_type": "markdown",
   "id": "6e252782",
   "metadata": {},
   "source": [
    "We already did the pivot to slice and dice revenue data to based on discount position for all products category. From the top 3 Categories we already gain insight of the product is discounts based. Next, we are going to graph with stacked bar to see there is another insight we gain from this."
   ]
  },
  {
   "cell_type": "code",
   "execution_count": 21,
   "id": "b2d9d290",
   "metadata": {},
   "outputs": [
    {
     "data": {
      "text/html": [
       "<div>\n",
       "<style scoped>\n",
       "    .dataframe tbody tr th:only-of-type {\n",
       "        vertical-align: middle;\n",
       "    }\n",
       "\n",
       "    .dataframe tbody tr th {\n",
       "        vertical-align: top;\n",
       "    }\n",
       "\n",
       "    .dataframe thead th {\n",
       "        text-align: right;\n",
       "    }\n",
       "</style>\n",
       "<table border=\"1\" class=\"dataframe\">\n",
       "  <thead>\n",
       "    <tr style=\"text-align: right;\">\n",
       "      <th>Discount_Position</th>\n",
       "      <th>Revenue Non-Discounts</th>\n",
       "      <th>Revenue with Discounts</th>\n",
       "      <th>Sum_Revenue</th>\n",
       "      <th>Discounted_Revenue %</th>\n",
       "      <th>Non-Discounted_Revenue %</th>\n",
       "    </tr>\n",
       "    <tr>\n",
       "      <th>Category</th>\n",
       "      <th></th>\n",
       "      <th></th>\n",
       "      <th></th>\n",
       "      <th></th>\n",
       "      <th></th>\n",
       "    </tr>\n",
       "  </thead>\n",
       "  <tbody>\n",
       "    <tr>\n",
       "      <th>Clothing</th>\n",
       "      <td>18645.96</td>\n",
       "      <td>96668.88</td>\n",
       "      <td>115314.84</td>\n",
       "      <td>83.83</td>\n",
       "      <td>16.17</td>\n",
       "    </tr>\n",
       "    <tr>\n",
       "      <th>Books</th>\n",
       "      <td>16824.45</td>\n",
       "      <td>94324.90</td>\n",
       "      <td>111149.35</td>\n",
       "      <td>84.86</td>\n",
       "      <td>15.14</td>\n",
       "    </tr>\n",
       "    <tr>\n",
       "      <th>Home &amp; Kitchen</th>\n",
       "      <td>16723.73</td>\n",
       "      <td>93604.35</td>\n",
       "      <td>110328.08</td>\n",
       "      <td>84.84</td>\n",
       "      <td>15.16</td>\n",
       "    </tr>\n",
       "    <tr>\n",
       "      <th>Sports</th>\n",
       "      <td>18446.98</td>\n",
       "      <td>90071.81</td>\n",
       "      <td>108518.79</td>\n",
       "      <td>83.00</td>\n",
       "      <td>17.00</td>\n",
       "    </tr>\n",
       "    <tr>\n",
       "      <th>Toys</th>\n",
       "      <td>18956.25</td>\n",
       "      <td>88333.44</td>\n",
       "      <td>107289.69</td>\n",
       "      <td>82.33</td>\n",
       "      <td>17.67</td>\n",
       "    </tr>\n",
       "    <tr>\n",
       "      <th>Beauty</th>\n",
       "      <td>16347.75</td>\n",
       "      <td>87867.35</td>\n",
       "      <td>104215.10</td>\n",
       "      <td>84.31</td>\n",
       "      <td>15.69</td>\n",
       "    </tr>\n",
       "    <tr>\n",
       "      <th>Electronics</th>\n",
       "      <td>16558.68</td>\n",
       "      <td>83903.55</td>\n",
       "      <td>100462.23</td>\n",
       "      <td>83.52</td>\n",
       "      <td>16.48</td>\n",
       "    </tr>\n",
       "  </tbody>\n",
       "</table>\n",
       "</div>"
      ],
      "text/plain": [
       "Discount_Position  Revenue Non-Discounts  Revenue with Discounts  Sum_Revenue  \\\n",
       "Category                                                                        \n",
       "Clothing                        18645.96                96668.88    115314.84   \n",
       "Books                           16824.45                94324.90    111149.35   \n",
       "Home & Kitchen                  16723.73                93604.35    110328.08   \n",
       "Sports                          18446.98                90071.81    108518.79   \n",
       "Toys                            18956.25                88333.44    107289.69   \n",
       "Beauty                          16347.75                87867.35    104215.10   \n",
       "Electronics                     16558.68                83903.55    100462.23   \n",
       "\n",
       "Discount_Position  Discounted_Revenue %  Non-Discounted_Revenue %  \n",
       "Category                                                           \n",
       "Clothing                          83.83                     16.17  \n",
       "Books                             84.86                     15.14  \n",
       "Home & Kitchen                    84.84                     15.16  \n",
       "Sports                            83.00                     17.00  \n",
       "Toys                              82.33                     17.67  \n",
       "Beauty                            84.31                     15.69  \n",
       "Electronics                       83.52                     16.48  "
      ]
     },
     "execution_count": 21,
     "metadata": {},
     "output_type": "execute_result"
    }
   ],
   "source": [
    "# Divide the discounts revenue with Sum_Revenue to see the proportions\n",
    "pivot['Discounted_Revenue %'] = round((pivot['Revenue with Discounts']/pivot['Sum_Revenue']) * 100, 2)\n",
    "pivot['Non-Discounted_Revenue %'] = round((pivot['Revenue Non-Discounts']/pivot['Sum_Revenue']) * 100 , 2)\n",
    "pivot"
   ]
  },
  {
   "cell_type": "code",
   "execution_count": 22,
   "id": "9496819f",
   "metadata": {},
   "outputs": [
    {
     "data": {
      "image/png": "[encoded data removed]",
      "text/plain": [
       "<Figure size 1200x600 with 1 Axes>"
      ]
     },
     "metadata": {},
     "output_type": "display_data"
    }
   ],
   "source": [
    "# Now we going to create the stacked bar\n",
    "ax = pivot[['Discounted_Revenue %', 'Non-Discounted_Revenue %']].plot(\n",
    "    kind='barh',\n",
    "    stacked=True,\n",
    "    figsize=(12,6),\n",
    "    color=['darkblue', 'lightgreen'],\n",
    ")\n",
    "# Add varable axes for determine the colour of two different label\n",
    "axes = ax.containers\n",
    "\n",
    "# Add value of the labels\n",
    "ax.bar_label(axes[0], fmt='%.2f%%', label_type='center', fontsize=8, color='white') # fmt means for the format will follow round of 2 behind the commas\n",
    "ax.bar_label(axes[1], fmt='%.2f%%', label_type='center', fontsize=8, color='black')\n",
    "\n",
    "# Additional\n",
    "plt.ylabel('Product Category')\n",
    "plt.xlabel('Percentage of Revenue')\n",
    "plt.legend(['Discounted_Revenue %', 'Non-Discounted_Revenue %'], loc='center left', bbox_to_anchor=(1.02, 0.5)) # bbox to anchor to set the location set for the legend following the pixels\n",
    "plt.title('Proportion of Revenue: With Discounts vs Non-discounts by Product Category', fontfamily='serif')\n",
    "plt.tight_layout()\n",
    "plt.show()"
   ]
  },
  {
   "cell_type": "markdown",
   "id": "30d6b418",
   "metadata": {},
   "source": [
    "Shown from the bar the for the discounted price across all products category have really high proportion for the revenue and explicitly show that the company really depends on price discounted on generating high revenue. While, the non discounted price only affecting on sports and toys products category but not really that high. Call back from the top 3 (Clothing, Books, and Home & Kitchen), the company seems to set the price discounts heavily for those products category. Therefore, we came to conclusion that discounted price mainly playing roles in revenue streams."
   ]
  },
  {
   "cell_type": "markdown",
   "id": "8fe0af37",
   "metadata": {},
   "source": [
    "### 3. Which payment method for revenue in discounted category is the highest in each Product Category"
   ]
  },
  {
   "cell_type": "markdown",
   "id": "4e40637a",
   "metadata": {},
   "source": [
    "Is it payment method will give new additional insight for this Product Category and the discounted or non-discounted we will analysis by a graph in this analysis."
   ]
  },
  {
   "cell_type": "code",
   "execution_count": 23,
   "id": "dcae204e",
   "metadata": {},
   "outputs": [
    {
     "data": {
      "text/html": [
       "<div>\n",
       "<style scoped>\n",
       "    .dataframe tbody tr th:only-of-type {\n",
       "        vertical-align: middle;\n",
       "    }\n",
       "\n",
       "    .dataframe tbody tr th {\n",
       "        vertical-align: top;\n",
       "    }\n",
       "\n",
       "    .dataframe thead tr th {\n",
       "        text-align: left;\n",
       "    }\n",
       "\n",
       "    .dataframe thead tr:last-of-type th {\n",
       "        text-align: right;\n",
       "    }\n",
       "</style>\n",
       "<table border=\"1\" class=\"dataframe\">\n",
       "  <thead>\n",
       "    <tr>\n",
       "      <th>Payment_Method</th>\n",
       "      <th>Cash on Delivery</th>\n",
       "      <th>Credit Card</th>\n",
       "      <th>Debit Card</th>\n",
       "      <th>Net Banking</th>\n",
       "      <th>UPI</th>\n",
       "    </tr>\n",
       "    <tr>\n",
       "      <th>Discount_Position</th>\n",
       "      <th>Revenue with Discounts</th>\n",
       "      <th>Revenue with Discounts</th>\n",
       "      <th>Revenue with Discounts</th>\n",
       "      <th>Revenue with Discounts</th>\n",
       "      <th>Revenue with Discounts</th>\n",
       "    </tr>\n",
       "    <tr>\n",
       "      <th>Category</th>\n",
       "      <th></th>\n",
       "      <th></th>\n",
       "      <th></th>\n",
       "      <th></th>\n",
       "      <th></th>\n",
       "    </tr>\n",
       "  </thead>\n",
       "  <tbody>\n",
       "    <tr>\n",
       "      <th>Beauty</th>\n",
       "      <td>18989.53</td>\n",
       "      <td>15283.86</td>\n",
       "      <td>15172.33</td>\n",
       "      <td>19190.17</td>\n",
       "      <td>19231.46</td>\n",
       "    </tr>\n",
       "    <tr>\n",
       "      <th>Books</th>\n",
       "      <td>16849.33</td>\n",
       "      <td>19854.49</td>\n",
       "      <td>19977.79</td>\n",
       "      <td>19182.52</td>\n",
       "      <td>18460.77</td>\n",
       "    </tr>\n",
       "    <tr>\n",
       "      <th>Clothing</th>\n",
       "      <td>21680.70</td>\n",
       "      <td>19591.43</td>\n",
       "      <td>18556.61</td>\n",
       "      <td>18202.00</td>\n",
       "      <td>18638.14</td>\n",
       "    </tr>\n",
       "    <tr>\n",
       "      <th>Electronics</th>\n",
       "      <td>15257.10</td>\n",
       "      <td>19773.05</td>\n",
       "      <td>15682.35</td>\n",
       "      <td>17334.20</td>\n",
       "      <td>15856.85</td>\n",
       "    </tr>\n",
       "    <tr>\n",
       "      <th>Home &amp; Kitchen</th>\n",
       "      <td>19442.22</td>\n",
       "      <td>20398.42</td>\n",
       "      <td>17870.35</td>\n",
       "      <td>18485.28</td>\n",
       "      <td>17408.08</td>\n",
       "    </tr>\n",
       "    <tr>\n",
       "      <th>Sports</th>\n",
       "      <td>16430.14</td>\n",
       "      <td>19884.21</td>\n",
       "      <td>20145.73</td>\n",
       "      <td>16163.14</td>\n",
       "      <td>17448.59</td>\n",
       "    </tr>\n",
       "    <tr>\n",
       "      <th>Toys</th>\n",
       "      <td>17074.08</td>\n",
       "      <td>18559.54</td>\n",
       "      <td>18281.04</td>\n",
       "      <td>18643.57</td>\n",
       "      <td>15775.21</td>\n",
       "    </tr>\n",
       "  </tbody>\n",
       "</table>\n",
       "</div>"
      ],
      "text/plain": [
       "Payment_Method          Cash on Delivery            Credit Card  \\\n",
       "Discount_Position Revenue with Discounts Revenue with Discounts   \n",
       "Category                                                          \n",
       "Beauty                          18989.53               15283.86   \n",
       "Books                           16849.33               19854.49   \n",
       "Clothing                        21680.70               19591.43   \n",
       "Electronics                     15257.10               19773.05   \n",
       "Home & Kitchen                  19442.22               20398.42   \n",
       "Sports                          16430.14               19884.21   \n",
       "Toys                            17074.08               18559.54   \n",
       "\n",
       "Payment_Method                Debit Card            Net Banking  \\\n",
       "Discount_Position Revenue with Discounts Revenue with Discounts   \n",
       "Category                                                          \n",
       "Beauty                          15172.33               19190.17   \n",
       "Books                           19977.79               19182.52   \n",
       "Clothing                        18556.61               18202.00   \n",
       "Electronics                     15682.35               17334.20   \n",
       "Home & Kitchen                  17870.35               18485.28   \n",
       "Sports                          20145.73               16163.14   \n",
       "Toys                            18281.04               18643.57   \n",
       "\n",
       "Payment_Method                       UPI  \n",
       "Discount_Position Revenue with Discounts  \n",
       "Category                                  \n",
       "Beauty                          19231.46  \n",
       "Books                           18460.77  \n",
       "Clothing                        18638.14  \n",
       "Electronics                     15856.85  \n",
       "Home & Kitchen                  17408.08  \n",
       "Sports                          17448.59  \n",
       "Toys                            15775.21  "
      ]
     },
     "execution_count": 23,
     "metadata": {},
     "output_type": "execute_result"
    }
   ],
   "source": [
    "# Group by Product Category with Discount Position\n",
    "paydis_group = df_new.groupby(['Category', 'Payment_Method','Discount_Position'])['Revenue'].sum().reset_index()\n",
    "pivot2 = paydis_group.pivot(index='Category', columns=['Payment_Method', 'Discount_Position'], values='Revenue')\n",
    "dis_columns = [col for col in pivot2.columns if col[1]=='Revenue with Discounts']\n",
    "pivot2 = pivot2[dis_columns]\n",
    "pivot2"
   ]
  },
  {
   "cell_type": "code",
   "execution_count": 24,
   "id": "f5f8b136",
   "metadata": {},
   "outputs": [
    {
     "data": {
      "image/png": "[encoded data removed]",
      "text/plain": [
       "<Figure size 1200x600 with 1 Axes>"
      ]
     },
     "metadata": {},
     "output_type": "display_data"
    }
   ],
   "source": [
    "# Stacked Bar \n",
    "ax = pivot2.plot(kind='bar', stacked=True, figsize=(12,6), edgecolor='black')\n",
    "\n",
    "# Add varable axes for determine the values by percent\n",
    "axes = ax.containers\n",
    "\n",
    "# For all legends values\n",
    "ax.bar_label(axes[0], label_type='center', fontsize=8, color='black')\n",
    "ax.bar_label(axes[1], label_type='center', fontsize=8, color='black')\n",
    "ax.bar_label(axes[2], label_type='center', fontsize=8, color='black')\n",
    "ax.bar_label(axes[3], label_type='center', fontsize=8, color='black')\n",
    "ax.bar_label(axes[4], label_type='center', fontsize=8, color='black')\n",
    "\n",
    "# Additional\n",
    "plt.title('Revenue Product Category: Payment Method, and with Discounted Revenue', fontfamily = 'serif')\n",
    "plt.ylabel('Revenue')\n",
    "plt.xlabel('Product Category')\n",
    "plt.xticks(rotation=0)\n",
    "\n",
    "# Add Legends\n",
    "plt.legend(['Cash on Delivery', 'Credit Card', 'Debit Card', 'Net Banking', 'UPI'], loc='center left', bbox_to_anchor=(1.01, 0.4))\n",
    "\n",
    "plt.tight_layout()\n",
    "plt.show()\n"
   ]
  },
  {
   "cell_type": "markdown",
   "id": "8594dfd4",
   "metadata": {},
   "source": [
    "We can inferred the graph by using this subpoint below,\n",
    "- for payment method UPI heavily playing roles in Clothing category revenue stream after discounted, followed by Home & Kitchen and Beauty Category\n",
    "- for Credit Card the most highest transaction (revenue) after discounted is in Home & Kitchen category followed by Books and Sports.\n",
    "- for Debit Card has the most revenue generated for price after discounted Sports is the product category that has the highest amount for revenue generating, and follow by Books and Clothing.\n",
    "- for Net Banking the highest amount of revenue generating is Beauty category followed by Books and Toys category.\n",
    "- for Cash on Delivery the highest amount of product category holds by Beauty category followed by Clothing and Books.\n",
    "\n",
    "So now we came to conclusion we already divide the revenue per segments and we hold our analysis based on the Payment Method and each Product Category after discounted price."
   ]
  },
  {
   "cell_type": "markdown",
   "id": "48322d9e",
   "metadata": {},
   "source": [
    "### 4. Consumer Preference of Spending using Payment Methods with Revenue"
   ]
  },
  {
   "cell_type": "markdown",
   "id": "e29a8031",
   "metadata": {},
   "source": [
    "In this section we want to know how distributed of consumer preference of using payment method in the discounted prices. I sum up al product category for this and only payment method that going to be checked."
   ]
  },
  {
   "cell_type": "code",
   "execution_count": 25,
   "id": "65800997",
   "metadata": {},
   "outputs": [
    {
     "data": {
      "image/png": "[encoded data removed]",
      "text/plain": [
       "<Figure size 1200x800 with 1 Axes>"
      ]
     },
     "metadata": {},
     "output_type": "display_data"
    }
   ],
   "source": [
    "# Create new variable for filtered only Revenue with Discounts only\n",
    "paydis_group2 = paydis_group[paydis_group['Discount_Position'] == 'Revenue with Discounts']\n",
    "\n",
    "# Create boxplot between Revenue and Payment Methods\n",
    "var = 'Payment_Method'\n",
    "data = pd.concat([paydis_group2['Revenue'], paydis_group2[var]], axis=1)\n",
    "f, ax = plt.subplots(figsize=(12, 8))\n",
    "fig = sns.boxplot(x=var, y=\"Revenue\", data=data)\n",
    "fig.axis(ymin=8000, ymax=25000) # set axis value the range starts from 8000 to 25000\n",
    "\n",
    "# Calculate the median and IQR manually and annotation\n",
    "for i, method in enumerate (data[var].unique()):\n",
    "    data_grup = data[data[var] == method] ['Revenue']\n",
    "    median = data_grup.median()\n",
    "    q1 = data_grup.quantile(0.25)\n",
    "    q3 = data_grup.quantile(0.75)\n",
    "\n",
    "    # The median annotation\n",
    "    plt.text(i, median + 120, f\"Median: {int(median)}\",\n",
    "             ha='center', color='black', fontsize=8, fontweight='bold')\n",
    "    \n",
    "    # The IQR Annotation\n",
    "    plt.text(i, q1 - 1000, f\"Q1: {int(q1)}\", ha='center', fontsize=8, color='black')\n",
    "    plt.text(i, q3 + 1000, f\"Q3: {int(q3)}\", ha='center', fontsize=8, color='black')\n",
    "\n",
    "plt.tight_layout()\n",
    "plt.show()\n",
    "    "
   ]
  },
  {
   "cell_type": "markdown",
   "id": "69b861fe",
   "metadata": {},
   "source": [
    "For this Boxplot Graph Analysis, narrower box means there is some consistent behaviour of consumer spending using this particular (e.g. Credit Card, Net Banking, UPI) payment method. While Cash on Delivery, and Debit Card has significant variability of consumer's spending behaviour, and tend to be more inconsistent. Implicitly, if we seek which payment methods for most generating revenue is Credit Card and is followed by UPI. When discounts are applied the median of the data of the Credit Card payment method generally the highest. Following the central tendency theory, when the median of a feature is more higher than the other feature means the range of the values within it by default is more higher and consistent compare to the other even the other features has more higher max value. Thus, it form a conclusion that payment method for generating revenue more consistently with Credit Card (Higher Median Value means Higher Willingness to Spend). Therefore, it is suggest us that consumers from our company tend to spend their purchase through credit card even if it has been discounted. This insight help us to tailored our promotion strategy based on the usage of the payment methods."
   ]
  },
  {
   "cell_type": "markdown",
   "id": "17d09523",
   "metadata": {},
   "source": [
    "### 5. Inferential Statistics for Price Discounted and non-Discounted"
   ]
  },
  {
   "cell_type": "markdown",
   "id": "1d5e5092",
   "metadata": {},
   "source": [
    "#### a. T-test Statistics\n",
    "To support our analysis before based on only from descriptive statistics and graph. I suggest to comprehend outr analysis to give more depth I'm going to use t-statistics for comparing difference significancy of price discounted vs non-discounted.\n",
    "\n",
    "Hypothesis\n",
    "\n",
    "Question: Is there any significant difference of price discounted and non-discounted? \n",
    "\n",
    "- H0 : Price Discounted = Price Non-Discounted\n",
    "- H1 : Price Discounted != Price Non-Discounted\n",
    "\n",
    "Hypothesis assumption: if p-value < 0.05 reject the null hypothesis (H0) and accept alternative hypothesis (H1), else (p-value > 0.05) accept the null hypothesis and reject the alternative hypothesis."
   ]
  },
  {
   "cell_type": "code",
   "execution_count": 26,
   "id": "c54927b9",
   "metadata": {},
   "outputs": [
    {
     "name": "stdout",
     "output_type": "stream",
     "text": [
      "T-Statistic: 15.45989\n",
      "P-value: 0.00000\n",
      "Accept H1 for 95% CI\n",
      "Alternative Hypothesis accepted (H1), and reject Null Hypothesis (H0)\n"
     ]
    }
   ],
   "source": [
    "# Set variable \n",
    "price_before_discount = df_new['Price']\n",
    "price_after_discount = df_new['Final_Price']\n",
    "\n",
    "# t-statistik test\n",
    "t_stat, p_val = stats.ttest_ind(price_before_discount, price_after_discount)\n",
    "print(f'T-Statistic: {t_stat:.5f}')\n",
    "\n",
    "if p_val < 0.05:\n",
    "    print(f'P-value: {p_val:.5f}')\n",
    "    print(\"Accept H1 for 95% CI\")\n",
    "    print(\"Alternative Hypothesis accepted (H1), and reject Null Hypothesis (H0)\")\n",
    "else:\n",
    "    print(f'P-value: {p_val:.5f}')\n",
    "    print(\"Accept H0 for 95% CI\")\n",
    "    print(\"Alternative Hypothesis rejected (H1), and accept Null Hypothesis (H0)\")"
   ]
  },
  {
   "cell_type": "markdown",
   "id": "989434ed",
   "metadata": {},
   "source": [
    "After we applied some statistics for hypothesis testing using the t-statistics (0.00000 < 0.05), we accept the alternative hypothesis meaning that there is a difference in the price discounted vs non-discounted. It supported our assumptions from above point that the price after it applied with discounted it affects the volume of the revenue generated. Moreover, explicitly the data from the graph analysis we done before shown that the revenue of discounted products is more higher and more effective to improving our revenue based on products category. From this conclusion, we suppose to focus to improve our promotional pricing strategies for generating more and more revenues."
   ]
  },
  {
   "cell_type": "markdown",
   "id": "8836d05f",
   "metadata": {},
   "source": [
    "### 6. ANOVA two-way stats test for payment method and products category to Revenue"
   ]
  },
  {
   "cell_type": "markdown",
   "id": "5e46b498",
   "metadata": {},
   "source": [
    "Hypothesis:\n",
    "\n",
    "1. Main effect of Payment Methods to Revenue:\n",
    "- Null Hypothesis (H0): There is no significance difference between payment method and revenue\n",
    "- Alternative Hypothesis (H1): There is significance difference between payment method and revenue\n",
    "\n",
    "2. Main Effect of Products Category to Revenue:\n",
    "- Null Hypothesis (H0): There is no significance difference between products category and revenue\n",
    "- Alternative Hypothesis (H1): There is significance difference between products category and revenue\n",
    "\n",
    "3. Interaction Effect between Payment Method with Products Category:\n",
    "- Null Hypothesis (H0): There is no interaction effect between payment methods with products category\n",
    "- Alternative Hypothesis (H1): There is interaction effect between payment methods with products category"
   ]
  },
  {
   "cell_type": "code",
   "execution_count": 27,
   "id": "36a312b1",
   "metadata": {},
   "outputs": [
    {
     "data": {
      "text/html": [
       "<div>\n",
       "<style scoped>\n",
       "    .dataframe tbody tr th:only-of-type {\n",
       "        vertical-align: middle;\n",
       "    }\n",
       "\n",
       "    .dataframe tbody tr th {\n",
       "        vertical-align: top;\n",
       "    }\n",
       "\n",
       "    .dataframe thead th {\n",
       "        text-align: right;\n",
       "    }\n",
       "</style>\n",
       "<table border=\"1\" class=\"dataframe\">\n",
       "  <thead>\n",
       "    <tr style=\"text-align: right;\">\n",
       "      <th></th>\n",
       "      <th>sum_sq</th>\n",
       "      <th>df</th>\n",
       "      <th>F</th>\n",
       "      <th>PR(&gt;F)</th>\n",
       "    </tr>\n",
       "  </thead>\n",
       "  <tbody>\n",
       "    <tr>\n",
       "      <th>C(Category)</th>\n",
       "      <td>9.044007e+04</td>\n",
       "      <td>6.0</td>\n",
       "      <td>1.003302</td>\n",
       "      <td>0.421161</td>\n",
       "    </tr>\n",
       "    <tr>\n",
       "      <th>C(Payment_Method)</th>\n",
       "      <td>2.146138e+04</td>\n",
       "      <td>4.0</td>\n",
       "      <td>0.357125</td>\n",
       "      <td>0.839207</td>\n",
       "    </tr>\n",
       "    <tr>\n",
       "      <th>C(Category):C(Payment_Method)</th>\n",
       "      <td>5.010175e+05</td>\n",
       "      <td>24.0</td>\n",
       "      <td>1.389516</td>\n",
       "      <td>0.097970</td>\n",
       "    </tr>\n",
       "    <tr>\n",
       "      <th>Residual</th>\n",
       "      <td>5.446104e+07</td>\n",
       "      <td>3625.0</td>\n",
       "      <td>NaN</td>\n",
       "      <td>NaN</td>\n",
       "    </tr>\n",
       "  </tbody>\n",
       "</table>\n",
       "</div>"
      ],
      "text/plain": [
       "                                     sum_sq      df         F    PR(>F)\n",
       "C(Category)                    9.044007e+04     6.0  1.003302  0.421161\n",
       "C(Payment_Method)              2.146138e+04     4.0  0.357125  0.839207\n",
       "C(Category):C(Payment_Method)  5.010175e+05    24.0  1.389516  0.097970\n",
       "Residual                       5.446104e+07  3625.0       NaN       NaN"
      ]
     },
     "execution_count": 27,
     "metadata": {},
     "output_type": "execute_result"
    }
   ],
   "source": [
    "# Define the main effect 1, 2 and interaction variables into an variable called the_varables\n",
    "the_variables = ols('Revenue ~ C(Category) + C(Payment_Method) + C(Category): C(Payment_Method) ',data=df_new).fit()\n",
    "\n",
    "# Execute the ANOVA two way test\n",
    "sms.anova_lm(the_variables, typ=2)"
   ]
  },
  {
   "cell_type": "markdown",
   "id": "004676b5",
   "metadata": {},
   "source": [
    "Information we can take from the ANOVA table above is the main factor 1 (Payment Method) is not significance different across all mean of the revenue overall. Secondly, the main factor 2 (Product Category) is resulting a same result that there is no significance difference from products category to the revenue. It is inferred neither of products category nor payment methods individually affecting the revenue.  Interaction effect is not significance at the 0.05 significance level of alpha (or 95% CI). The interaction effect resulted it will reject our alternative relationship in 95% CI, but it will accept our alternative hypothesis in 90% (0.097970 < 0.10). This implied there is some interaction between products category and payment methods that might influence the revenue, but it is not statistically strong relationship like the 0.05 p-value. Alpha level or significance level of 10% indicates there is moderately or marginally significant of interaction between payment method and products category to the revenue that suggest the effect of payment method may vary depending on the product category. This implied that there is some combination of payment methods and products category that may yields higher revenue than other. It shown in the (Section 3 - 'Which payment method for revenue in discounted category is the highest in each Product Category') that the payment methods is dependent to a specific products category to generate more revenue. This information might give us an insight to gain extra revenue from specific products category. Implicitly, the interactions between products category with the use of payment methods moderatly improve revenue for some product in the category."
   ]
  },
  {
   "cell_type": "markdown",
   "id": "bbb0b3b3",
   "metadata": {},
   "source": [
    "## D. Conclusion\n",
    "___"
   ]
  },
  {
   "cell_type": "markdown",
   "id": "f4c81050",
   "metadata": {},
   "source": [
    "The analysis reveals that among the products category from total revenue comparison there are top 3 categories that contributing to the company revenue for the most revenue stream. The three categories are Clothing, Books, and Home & Kitchen having contribution of total contribution revenue percentage of 15,23% (Clothing), 14,68% (Books), 14,57% (Home & Kitchen). On the other side, when it's came from consumers popularity by product category point of view of the top three is still the same for products category segments (Clothing, Books, and Home & Kitchen) but more different in the contributions percentage 15% (Home & Kitchen), 14,59% (Books), 14,51% (Clothing). Inferred, the top 3 categories for the most generating revenue and popular amongs the consumers is in those 3 products category. These 3 categories consistently generate higher sales volumes and more transactions values. High dependence on discounted sales across all categories ranging from 82.33% to 84.86%. Top categories with highest discounted revenue are Books (84.86%), Home & Kitchen (84.84%), and Beauty (84.31%). Customers on our e-commerce are highly discount-driven across all product category. Discounting is a universal sales strategy in the company's business model.\n",
    "\n",
    "Most popular payment methods overall are Credit Card and Debit Card, the most used methods across categories. Cash on Delivery is still strong for Clothing and Beauty, indicating trust or trials concerns. The UPI usage is relatively lower across categories, and it is indicating lower trust for high-value online UPI (Digital Payments) transactions or there is a possibillity of consumers preference for card-based rewards/credit. Books generate the highest total revenue mostly from Debit Card and Net Banking. Meanwhile, Electronics and Home & Kitchen heavily favor Credit Card, possibly due to higher product values and credit incentive. For revenue distribution by payment method, credit cards drive the most consistent and higher revenue. Secondly, Cash on Delivery has the possibility to resulting high revenue but is more volatile. UPI and Net Banking are stable but lean more towards lower revenue ranges. After conducting hypothesis and confirms there is a statistically significant difference between the revenue after price discounted and non-discounted products. The finding align well with the earlier graphical analysis, which visually showed that discounted products generate higher revenue specifically across product categories. This result support promotional pricing is an effective strategy driver of revenue performance.\n",
    "\n",
    "From ANOVA two-way standpoint it suggest a moderate significant interaction of certain combinations of payment methods and product categories might yield higher revenue. For instance, we already observed that some payment methods outperform others within a spesific products category, implying that the effectiveness of the payment methods can depend on the type of product being sold."
   ]
  },
  {
   "cell_type": "markdown",
   "id": "70c86ecb",
   "metadata": {
    "vscode": {
     "languageId": "bat"
    }
   },
   "source": [
    "## E. Business Recommendations\n",
    "___\n",
    "Referred to the conclusions above there is a several recommendation that can be inferred for business insight strategies as the point below:\n",
    "\n",
    "- Focus on Discount / Promotional Strategies: \n",
    "The company should prioritize promotional pricing, especially on high-performing products category. This could be implement through prioritizing data-driven promotional pricing during campaigns. Moreover, our company have to focus on bundling discount for high demand or fast moving products category. Lastly, it is important to look at product margins to maintain profitability.\n",
    "\n",
    "- Credit Card Payments Correlate with Higher Revenue per User Transaction:\n",
    "This spesific payment methods likely to appealsto high-intent buyers or those who purchasing premium products category. Moreover, our company could increase it's exclusivity by collaborate with our banks partner to offer credit card exclusive promotions.\n",
    "\n",
    "- The matter of Products Category and Payment Method:\n",
    "There are several products category that generate revenue varies based on spesific combinations, which means there are certain payment methods perform better with certain products category. The company should be focusing to develop category-spesific payment strategies for other products category.\n",
    "\n",
    "- Refine Cash on Delivery Strategy:\n",
    "As show from our analysis before, Cash on Delivery shows high revenue variance, and it indicates inconsistency. Cash on Deliver implementation might support a conversion of trust sensitive thus increase a risk. The company must seek some strategies to reduce this potential risk for Cash on Delivery segments. In the other side, the company should applied sort of strategic pricing through behavioral recommendation that aimed at shifting customer preferences of using COD to more prepaid payment methods (e.g. in this context credit card, debit card, UPI, or net banking) via applying cashback, loyalty points, and exclusive deals. "
   ]
  }
 ],
 "metadata": {
  "kernelspec": {
   "display_name": "h8_env",
   "language": "python",
   "name": "python3"
  },
  "language_info": {
   "codemirror_mode": {
    "name": "ipython",
    "version": 3
   },
   "file_extension": ".py",
   "mimetype": "text/x-python",
   "name": "python",
   "nbconvert_exporter": "python",
   "pygments_lexer": "ipython3",
   "version": "3.9.23"
  }
 },
 "nbformat": 4,
 "nbformat_minor": 5
}
